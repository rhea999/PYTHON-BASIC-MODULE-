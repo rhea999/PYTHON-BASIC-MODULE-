{
  "nbformat": 4,
  "nbformat_minor": 0,
  "metadata": {
    "colab": {
      "provenance": []
    },
    "kernelspec": {
      "name": "python3",
      "display_name": "Python 3"
    },
    "language_info": {
      "name": "python"
    }
  },
  "cells": [
    {
      "cell_type": "markdown",
      "source": [],
      "metadata": {
        "id": "Gn1kf-UEWOAm"
      }
    },
    {
      "cell_type": "markdown",
      "source": [
        "# 1. What are data structures, and why are they important?\n",
        "\n",
        "ANS 1. Data structure are ways of storing & organizing the data in computer. The storeed data now used efficiently & effectively.\n",
        "It help in problem solving and data manipulation.\n"
      ],
      "metadata": {
        "id": "wY9qb3t_YjG_"
      }
    },
    {
      "cell_type": "markdown",
      "source": [
        "# 2.  Explain the difference between mutable and immutable data types with examples?\n",
        "\n",
        " ans 2. Mutable data type :- Mutability refer to change an object value after its being created in the memory.\n",
        " example :- list is a type of mutable object/ support item assignment\n",
        "\n",
        "\n",
        " grocery_list = [\"A\",\"B\",\"C\",\"D\"]\n",
        " #here a list has been created named grocery list which contain different object like A,B,C,D\n",
        "\n",
        "  here we can make changes within the list\n",
        "  grocery_list[\"A\"] = \"M\"\n",
        "\n",
        "\n",
        "  Immutable data type := Immutability refer to the ability where we cannot make any changes in the object value after it being created in  the memory of computer.\n",
        "  example :- tuple is type of immutable object/ does not support item assignment\n",
        "tuple =(1,2,3)\n",
        "#here in tuple we can only make a addition to it but we cant change the element.\n"
      ],
      "metadata": {
        "id": "GuVMMDsZYlN1"
      }
    },
    {
      "cell_type": "markdown",
      "source": [
        "# 3. What are the main differences between lists and tuples in Python?\n",
        "\n",
        "Ans 3  \n",
        "\n",
        "1.   The major difference between list and tuple is that list is mutable and tuple is immutable data type.\n",
        "2.   list are suitable for the collection of data that may need to be modified,\n",
        "where tuple are useful when we need to fill the fixed data.\n",
        "3. list can vary in size but tuple has fixed size once its created in memory.\n",
        "4. list define with square brakets[ ] and tuple define with parenthesis ( ).\n",
        "\n",
        "\n",
        "\n",
        "\n",
        "\n",
        "\n"
      ],
      "metadata": {
        "id": "KKJKdn_KcSv6"
      }
    },
    {
      "cell_type": "markdown",
      "source": [
        "4. Describe how dictionaries store data?\n",
        "\n",
        "ans 4. Dictionaries stores data in pair format ('keys' : 'values'). The key and value must be unique. keys are generally immutable."
      ],
      "metadata": {
        "id": "oP9M3PJr9peH"
      }
    },
    {
      "cell_type": "markdown",
      "source": [
        "5. Why might you use a set instead of a list in Python?\n",
        "\n",
        "ans 5. Both set ans list are used to store collection of items.\n",
        "but in set are unordered collection of items where, list are ordered collection of items. sets collects only unique items and list can have duplicate items so sets are more usefull than lists."
      ],
      "metadata": {
        "id": "EUhzzY3s-fcG"
      }
    },
    {
      "cell_type": "markdown",
      "source": [
        "6. What is a string in Python, and how is it different from a list?\n",
        "\n",
        "ans6. A string a sequence of characters enclosed in either single quotes ('') or double quotes (\"\"). string is a immutable sequence of character.\n",
        "\n",
        "A list is like a shopping bag in which we can carry any type of object.\n",
        "list ia a mutable collection of various data types."
      ],
      "metadata": {
        "id": "sFUsNhWU_eUY"
      }
    },
    {
      "cell_type": "markdown",
      "source": [
        "7.  How do tuples ensure data integrity in Python?\n",
        "\n",
        "ans 7. Tuple ensure the data integrity by immutability it help to create unchangable data which remain constant through the data lifetime."
      ],
      "metadata": {
        "id": "wEo6OAzIKKkb"
      }
    },
    {
      "cell_type": "markdown",
      "source": [
        "8. What is a hash table, and how does it relate to dictionaries in Python?\n",
        "\n",
        "ans 8. A hash table is a data structure that stores key-value pairs, where each key is unique and used to calculate the index for storing the corresponding value."
      ],
      "metadata": {
        "id": "XBjQ5pNaKyB1"
      }
    },
    {
      "cell_type": "markdown",
      "source": [
        "9. Can lists contain different data types in Python?\n",
        "\n",
        "ans 9. Yes, list can store different data types such as\n",
        "\n",
        "1. Strings\n",
        "2. Integers\n",
        "3. Floats\n",
        "4. Booleans\n",
        "5. dictionaries\n",
        "6. tuples\n",
        "\n",
        "\n",
        "\n"
      ],
      "metadata": {
        "id": "q7FYFdsrLQNy"
      }
    },
    {
      "cell_type": "markdown",
      "source": [
        "10. Explain why strings are immutable in Python?\n",
        "\n",
        "ans 10. In Python, strings are made immutable so that users cannot change the contents of the object (even by mistake). This avoids unnecessary bugs.\n",
        "\n",
        "Some other immutable objects are integer, float, tuple, and bool."
      ],
      "metadata": {
        "id": "YCnKHOmqMO5f"
      }
    },
    {
      "cell_type": "markdown",
      "source": [
        "11. What advantages do dictionaries offer over lists for certain tasks?\n",
        "\n",
        "ans 11. Dictionaries are more suitable over lists in situations where quick data retrieval based on a key is important, such as when storing large amounts of data. Lists, on the other hand, are better when the order of elements is important or when you need to perform operations on the list's elements sequentially."
      ],
      "metadata": {
        "id": "HHpSBDOKNFvp"
      }
    },
    {
      "cell_type": "markdown",
      "source": [
        "12. Describe a scenario where using a tuple would be preferable over a list?\n",
        "\n",
        "ans 12. A scenario where a tuple would be preferred over a list is when representing coordinates. For instance, when dealing with 2D points, a tuple (x, y) is more suitable than a list [x, y]. This is because coordinates are inherently fixed; their values are not meant to be changed after creation. Using a tuple enforces this immutability, preventing accidental modifications that could occur with a list."
      ],
      "metadata": {
        "id": "ZNP_egrhN3qY"
      }
    },
    {
      "cell_type": "markdown",
      "source": [
        "13. How do sets handle duplicate values in Python?\n",
        "\n",
        "ans. Sets in Python are designed to store only unique elements. When an attempt is made to add a duplicate value to a set, Python automatically discards the duplicate, ensuring that the set contains only distinct elements."
      ],
      "metadata": {
        "id": "P2O7rDfmOWnU"
      }
    },
    {
      "cell_type": "markdown",
      "source": [
        "14. How does the “in” keyword work differently for lists and dictionaries?\n",
        "\n",
        "ans 14. For lists, \"in\" checks for the presence of a specific element within the list, while for dictionaries, it checks for the presence of a key in the dictionary."
      ],
      "metadata": {
        "id": "q5NVeimFOlI4"
      }
    },
    {
      "cell_type": "markdown",
      "source": [
        "15. Can you modify the elements of a tuple? Explain why or why not?\n",
        "\n",
        "ans 14. No, you cannot directly modify the elements of a tuple in Python. Tuples are immutable, meaning their contents cannot be changed after creation. This is a key difference between tuples and lists, which are mutable. If you need a data structure that allows modification, a list should be used instead."
      ],
      "metadata": {
        "id": "gC9Ydz0HO0VU"
      }
    },
    {
      "cell_type": "markdown",
      "source": [
        "#16. What is a nested dictionary, and give an example of its use case?\n",
        "\n",
        "ans 16. A nested dictionary is a dictionary where the value of one or more keys is another dictionary.\n",
        "\n",
        "\n",
        "```\n",
        "# use case\n",
        "students = {\n",
        "  \"class_I\": {\n",
        "    \"stu1\": {\n",
        "      \"name\": \"Alice\",\n",
        "      \"roll_no\": 56,\n",
        "      \"marks%\": 80\n",
        "    },\n",
        "    \"stu2\": {\n",
        "      \"name\": \"Bob\",\n",
        "      \"roll_no\": 48,\n",
        "      \"marks%\": 56\n",
        "    }\n",
        "  },\n",
        "  \"class_II\": {\n",
        "    \"stu3\": {\n",
        "      \"name\": \"Charlie\",\n",
        "      \"roll_no\": 26,\n",
        "      \"marks%\": 90\n",
        "    }\n",
        "  }\n",
        "}\n",
        "```"
      ],
      "metadata": {
        "id": "5WxjrbioPAk-"
      }
    },
    {
      "cell_type": "markdown",
      "source": [
        "17. Describe the time complexity of accessing elements in a dictionary.\n",
        "\n",
        "ans 17. Accessing an element in a dictionary typically takes O(1) (constant time) on average. This means the time it takes to retrieve a value using its key doesn't increase significantly as the dictionary size grows. However, in the worst-case scenario, where numerous collisions occur (meaning different keys map to the same hash value), the time complexity can degrade to O(n) (linear time)."
      ],
      "metadata": {
        "id": "z2gC8wU2Q_mW"
      }
    },
    {
      "cell_type": "markdown",
      "source": [
        "18. In what situations are lists preferred over dictionaries?\n",
        "\n",
        "ans 18. Lists are generally preferred over dictionaries when the order of elements is crucial, frequent appending/extension is needed, or when the data is not associated with specific keys."
      ],
      "metadata": {
        "id": "9EtjTUywROtY"
      }
    },
    {
      "cell_type": "markdown",
      "source": [
        "19. Why are dictionaries considered unordered, and how does that affect data retrieval?\n",
        "\n",
        "ans.19 Dictionaries are considered unordered because they don't inherently maintain a specific order of elements based on when they were added.\n",
        " This lack of order affects data retrieval in that you cannot access items by their position (index) like you can with lists or tuples. Instead, you retrieve values using keys, which allows for very fast lookups but doesn't guarantee any particular sequence when iterating or printing."
      ],
      "metadata": {
        "id": "eSIOGorVRbu0"
      }
    },
    {
      "cell_type": "markdown",
      "source": [
        "20. Explain the difference between a list and a dictionary in terms of data retrieval.\n",
        "\n",
        "ans 20. a dictionary offers significantly faster lookup of values based on unique keys compared to a list, which relies on numerical indices."
      ],
      "metadata": {
        "id": "Wks1b5oXRxWp"
      }
    },
    {
      "cell_type": "code",
      "source": [
        "print(\"Practical Questions\")"
      ],
      "metadata": {
        "colab": {
          "base_uri": "https://localhost:8080/"
        },
        "id": "f7NXyorEek24",
        "outputId": "e0b007aa-5a3d-47c3-c453-4132a688a7b9"
      },
      "execution_count": 131,
      "outputs": [
        {
          "output_type": "stream",
          "name": "stdout",
          "text": [
            "Practical Questions\n"
          ]
        }
      ]
    },
    {
      "cell_type": "code",
      "source": [
        "# 1. Write a code to create a string with your name and print it\n",
        "a = \"Rhea Sharma\"\n",
        "print(a)"
      ],
      "metadata": {
        "colab": {
          "base_uri": "https://localhost:8080/"
        },
        "id": "npEJmhPHetqS",
        "outputId": "3a806e09-9769-4482-e129-478d0cd6b432"
      },
      "execution_count": 132,
      "outputs": [
        {
          "output_type": "stream",
          "name": "stdout",
          "text": [
            "Rhea Sharma\n"
          ]
        }
      ]
    },
    {
      "cell_type": "code",
      "source": [
        "# 2. Write a code to find the length of the string \"Hello World\"\n",
        "b = \"Hello World\"\n",
        "len(b) # len is used to find the lenght of the string."
      ],
      "metadata": {
        "colab": {
          "base_uri": "https://localhost:8080/"
        },
        "id": "-zCS2QeXfoGz",
        "outputId": "060b179b-a5b7-4b83-8276-5a8886767fc8"
      },
      "execution_count": 133,
      "outputs": [
        {
          "output_type": "execute_result",
          "data": {
            "text/plain": [
              "11"
            ]
          },
          "metadata": {},
          "execution_count": 133
        }
      ]
    },
    {
      "cell_type": "code",
      "source": [
        "# 3. Write a code to slice the first 3 characters from the string \"Python Programming\"\n",
        "c = \"Python Programming\"\n",
        "c[0:3] # slicing help to find the certain alphabet, number through indexing."
      ],
      "metadata": {
        "colab": {
          "base_uri": "https://localhost:8080/",
          "height": 36
        },
        "id": "vBFR5P5mgeE4",
        "outputId": "4c151402-ca0f-44ce-f6cc-dee884990d31"
      },
      "execution_count": 134,
      "outputs": [
        {
          "output_type": "execute_result",
          "data": {
            "text/plain": [
              "'Pyt'"
            ],
            "application/vnd.google.colaboratory.intrinsic+json": {
              "type": "string"
            }
          },
          "metadata": {},
          "execution_count": 134
        }
      ]
    },
    {
      "cell_type": "code",
      "source": [
        "# 4. Write a code to convert the string \"hello\" to uppercase\n",
        "d = \"hello\"\n",
        "d.upper() # upper help to modify the string."
      ],
      "metadata": {
        "colab": {
          "base_uri": "https://localhost:8080/",
          "height": 36
        },
        "id": "ADDA5wJYg1ah",
        "outputId": "d80ac3ae-501c-4fe2-8422-0d19fb160a57"
      },
      "execution_count": 135,
      "outputs": [
        {
          "output_type": "execute_result",
          "data": {
            "text/plain": [
              "'HELLO'"
            ],
            "application/vnd.google.colaboratory.intrinsic+json": {
              "type": "string"
            }
          },
          "metadata": {},
          "execution_count": 135
        }
      ]
    },
    {
      "cell_type": "code",
      "source": [
        "# 5.  Write a code to replace the word \"apple\" with \"orange\" in the string \"I like apple\".\n",
        "e = \"I like apple\"\n",
        "e.replace(\"apple\",\"orange\") #replace help to make changes in the lines."
      ],
      "metadata": {
        "colab": {
          "base_uri": "https://localhost:8080/",
          "height": 36
        },
        "id": "XNwhFhA7hTyp",
        "outputId": "edbe5369-1411-4d20-c92f-a7229afe2f1b"
      },
      "execution_count": 136,
      "outputs": [
        {
          "output_type": "execute_result",
          "data": {
            "text/plain": [
              "'I like orange'"
            ],
            "application/vnd.google.colaboratory.intrinsic+json": {
              "type": "string"
            }
          },
          "metadata": {},
          "execution_count": 136
        }
      ]
    },
    {
      "cell_type": "code",
      "source": [
        "# 6. Write a code to create a list with numbers 1 to 5 and print it\n",
        "List = [1,2,3,4,5]\n",
        "print(List) # list is an mutable and represent with [] brackets."
      ],
      "metadata": {
        "colab": {
          "base_uri": "https://localhost:8080/"
        },
        "id": "P74aOjFChtdF",
        "outputId": "dd63e1a6-d2b0-44bc-c140-861052f0c235"
      },
      "execution_count": 137,
      "outputs": [
        {
          "output_type": "stream",
          "name": "stdout",
          "text": [
            "[1, 2, 3, 4, 5]\n"
          ]
        }
      ]
    },
    {
      "cell_type": "code",
      "source": [
        "# 7. Write a code to append the number 10 to the list [1, 2, 3, 4]\n",
        "List1 = [1,2,3,4]\n",
        "List1.append(10) # append help to add elements into the existing lists.\n",
        "print(List1)"
      ],
      "metadata": {
        "colab": {
          "base_uri": "https://localhost:8080/"
        },
        "id": "kVJs2irRiEtu",
        "outputId": "974e36de-92be-4069-a58f-c8d849638fb2"
      },
      "execution_count": 138,
      "outputs": [
        {
          "output_type": "stream",
          "name": "stdout",
          "text": [
            "[1, 2, 3, 4, 10]\n"
          ]
        }
      ]
    },
    {
      "cell_type": "code",
      "source": [
        "# 8. Write a code to remove the number 3 from the list [1, 2, 3, 4, 5].\n",
        "List2 = [1,2,3,4,5]\n",
        "List2.remove(3) # remove help to remove element from the existing lists.\n",
        "print (List2)"
      ],
      "metadata": {
        "colab": {
          "base_uri": "https://localhost:8080/"
        },
        "id": "Jkz-jv7cissd",
        "outputId": "b52983c0-db51-4003-9940-9ce47ae0726d"
      },
      "execution_count": 139,
      "outputs": [
        {
          "output_type": "stream",
          "name": "stdout",
          "text": [
            "[1, 2, 4, 5]\n"
          ]
        }
      ]
    },
    {
      "cell_type": "code",
      "source": [
        "# 9. Write a code to access the second element in the list ['a', 'b', 'c', 'd'].\n",
        "list3 = ['a','b','c','d']\n",
        "list3[1:2] #here i have used slicing to show the second element from the list."
      ],
      "metadata": {
        "colab": {
          "base_uri": "https://localhost:8080/"
        },
        "id": "pNLHOjsfkkzH",
        "outputId": "c36d720e-ba51-40e7-969d-fe138c2da0ae"
      },
      "execution_count": 140,
      "outputs": [
        {
          "output_type": "execute_result",
          "data": {
            "text/plain": [
              "['b']"
            ]
          },
          "metadata": {},
          "execution_count": 140
        }
      ]
    },
    {
      "cell_type": "code",
      "source": [
        "# 10. Write a code to reverse the list [10, 20, 30, 40, 50].\n",
        "list4 =[10,20,30,40,50]\n",
        "list4.reverse()\n",
        "print(list4)"
      ],
      "metadata": {
        "colab": {
          "base_uri": "https://localhost:8080/"
        },
        "id": "GLj86ODNlrGq",
        "outputId": "fb24976c-9ca0-4600-c591-6a41c38d6fbf"
      },
      "execution_count": 141,
      "outputs": [
        {
          "output_type": "stream",
          "name": "stdout",
          "text": [
            "[50, 40, 30, 20, 10]\n"
          ]
        }
      ]
    },
    {
      "cell_type": "code",
      "source": [
        "# 11. Write a code to create a tuple with the elements 100, 200, 300 and print it.\n",
        "tuple = (100,200,300)\n",
        "print(tuple)"
      ],
      "metadata": {
        "colab": {
          "base_uri": "https://localhost:8080/"
        },
        "id": "6zlGR93KmZpE",
        "outputId": "99787459-c92d-4137-8d74-59b6a558373f"
      },
      "execution_count": 142,
      "outputs": [
        {
          "output_type": "stream",
          "name": "stdout",
          "text": [
            "(100, 200, 300)\n"
          ]
        }
      ]
    },
    {
      "cell_type": "code",
      "source": [
        "# 12. Write a code to access the second-to-last element of the tuple ('red', 'green', 'blue', 'yellow').\n",
        "tuple1 = ('red','green','blue','yellow')\n",
        "tuple1 [1:4]"
      ],
      "metadata": {
        "colab": {
          "base_uri": "https://localhost:8080/"
        },
        "id": "4o1oHLeOmu4O",
        "outputId": "c4f5d917-ab21-4c2a-b98a-34cce6143da0"
      },
      "execution_count": 143,
      "outputs": [
        {
          "output_type": "execute_result",
          "data": {
            "text/plain": [
              "('green', 'blue', 'yellow')"
            ]
          },
          "metadata": {},
          "execution_count": 143
        }
      ]
    },
    {
      "cell_type": "code",
      "source": [
        "# 13. Write a code to find the minimum number in the tuple (10, 20, 5, 15).\n",
        "tuple2 =(10,20,5,15)\n",
        "min(tuple2) # here to find the min value in the tuple we use min before tuple2"
      ],
      "metadata": {
        "colab": {
          "base_uri": "https://localhost:8080/"
        },
        "id": "SOSPT_vxnUuG",
        "outputId": "aa49f294-06eb-4204-ce84-ec70b2af0595"
      },
      "execution_count": 144,
      "outputs": [
        {
          "output_type": "execute_result",
          "data": {
            "text/plain": [
              "5"
            ]
          },
          "metadata": {},
          "execution_count": 144
        }
      ]
    },
    {
      "cell_type": "code",
      "source": [
        "# 14. Write a code to find the index of the element \"cat\" in the tuple ('dog', 'cat', 'rabbit').\n",
        "tuple3 =('dog','cat','rabbit')\n",
        "tuple3[1:2]"
      ],
      "metadata": {
        "colab": {
          "base_uri": "https://localhost:8080/"
        },
        "id": "Ii_KbcPrnx4L",
        "outputId": "93cc6af0-7cc3-4435-d099-d8619438c69e"
      },
      "execution_count": 145,
      "outputs": [
        {
          "output_type": "execute_result",
          "data": {
            "text/plain": [
              "('cat',)"
            ]
          },
          "metadata": {},
          "execution_count": 145
        }
      ]
    },
    {
      "cell_type": "code",
      "source": [
        "# 15. Write a code to create a tuple containing three different fruits and check if \"kiwi\" is in it.\n",
        "tuple4 = ('apple','orange','pineapple')\n",
        "'kiwi' in tuple4 # here i have use in to know wheather kiwi is in the list or not and answer is false."
      ],
      "metadata": {
        "colab": {
          "base_uri": "https://localhost:8080/"
        },
        "id": "R7v1tikWomAl",
        "outputId": "8e0e1610-a47d-4e10-f3e5-818f553bc3ac"
      },
      "execution_count": 146,
      "outputs": [
        {
          "output_type": "execute_result",
          "data": {
            "text/plain": [
              "False"
            ]
          },
          "metadata": {},
          "execution_count": 146
        }
      ]
    },
    {
      "cell_type": "code",
      "source": [
        "# 16. Write a code to create a set with the elements 'a', 'b', 'c' and print it.\n",
        "set = {'a','b','c'}\n",
        "print(set)"
      ],
      "metadata": {
        "colab": {
          "base_uri": "https://localhost:8080/"
        },
        "id": "RhVacpEfpUIP",
        "outputId": "ce39259e-0ff7-43f3-eeab-b8a39aa8397b"
      },
      "execution_count": 147,
      "outputs": [
        {
          "output_type": "stream",
          "name": "stdout",
          "text": [
            "{'a', 'b', 'c'}\n"
          ]
        }
      ]
    },
    {
      "cell_type": "code",
      "source": [
        "# 17. Write a code to clear all elements from the set {1, 2, 3, 4, 5}.\n",
        "set1 = {1,2,3,4,5}\n",
        "set1.clear() # here clear help to empty the list\n",
        "print(set1)"
      ],
      "metadata": {
        "colab": {
          "base_uri": "https://localhost:8080/"
        },
        "id": "4wbhKxJeqx2N",
        "outputId": "724a9fe6-2da4-4939-f0a9-e3730f5b35d4"
      },
      "execution_count": 148,
      "outputs": [
        {
          "output_type": "stream",
          "name": "stdout",
          "text": [
            "set()\n"
          ]
        }
      ]
    },
    {
      "cell_type": "code",
      "source": [
        "# 18. Write a code to remove the element 4 from the set {1, 2, 3, 4}.\n",
        "set2 = {1,2,3,4}\n",
        "set2.remove(4) # here the remove help to remove specific element from the set\n",
        "print(set2)"
      ],
      "metadata": {
        "colab": {
          "base_uri": "https://localhost:8080/"
        },
        "id": "N2D60WfvrEK-",
        "outputId": "1a3ab11b-c1cb-43e2-f9df-78d6247294b1"
      },
      "execution_count": 149,
      "outputs": [
        {
          "output_type": "stream",
          "name": "stdout",
          "text": [
            "{1, 2, 3}\n"
          ]
        }
      ]
    },
    {
      "cell_type": "code",
      "source": [
        "# 19.  Write a code to find the union of two sets {1, 2, 3} and {3, 4, 5}.\n",
        "set3 = {1,2,3}\n",
        "set4 = {3,4,5}\n",
        "set3.union(set4)"
      ],
      "metadata": {
        "colab": {
          "base_uri": "https://localhost:8080/"
        },
        "id": "RiOATDc3rlg3",
        "outputId": "1b9becf4-f7a1-4965-cc87-21eb19edf236"
      },
      "execution_count": 150,
      "outputs": [
        {
          "output_type": "execute_result",
          "data": {
            "text/plain": [
              "{1, 2, 3, 4, 5}"
            ]
          },
          "metadata": {},
          "execution_count": 150
        }
      ]
    },
    {
      "cell_type": "code",
      "source": [
        "# 20. Write a code to find the intersection of two sets {1, 2, 3} and {2, 3, 4}.\n",
        "set3 = {1,2,3}\n",
        "set5 = {2,3,4}\n",
        "set3.intersection(set5)"
      ],
      "metadata": {
        "colab": {
          "base_uri": "https://localhost:8080/"
        },
        "id": "KLZN8NBRsMYU",
        "outputId": "ebc3e0b6-867c-4b11-9e12-45feced8775b"
      },
      "execution_count": 151,
      "outputs": [
        {
          "output_type": "execute_result",
          "data": {
            "text/plain": [
              "{2, 3}"
            ]
          },
          "metadata": {},
          "execution_count": 151
        }
      ]
    },
    {
      "cell_type": "code",
      "source": [
        "# 21. Write a code to create a dictionary with the keys \"name\", \"age\", and \"city\", and print it.\n",
        "dict = {\"name\":\"Rhea\", \"age\":\"_____\", \"city\":\"palwal\"}\n",
        "print(dict)"
      ],
      "metadata": {
        "colab": {
          "base_uri": "https://localhost:8080/"
        },
        "id": "KXV7EIgstE7A",
        "outputId": "ebc264aa-939a-486d-d7cb-f2e643bb2d0b"
      },
      "execution_count": 152,
      "outputs": [
        {
          "output_type": "stream",
          "name": "stdout",
          "text": [
            "{'name': 'Rhea', 'age': '_____', 'city': 'palwal'}\n"
          ]
        }
      ]
    },
    {
      "cell_type": "code",
      "source": [
        "# 22. Write a code to add a new key-value pair \"country\": \"USA\" to the dictionary {'name': 'John', 'age': 25}.\n",
        "dict = {\"name\":\"john\", \"age\":25}\n",
        "dict[\"country\"] = \"USA\"\n",
        "print(dict)"
      ],
      "metadata": {
        "colab": {
          "base_uri": "https://localhost:8080/"
        },
        "id": "uEgrDxsktsmf",
        "outputId": "f623cf11-665b-4bf0-9900-dcade8b78e66"
      },
      "execution_count": 153,
      "outputs": [
        {
          "output_type": "stream",
          "name": "stdout",
          "text": [
            "{'name': 'john', 'age': 25, 'country': 'USA'}\n"
          ]
        }
      ]
    },
    {
      "cell_type": "code",
      "source": [
        " # 23. Write a code to access the value associated with the key \"name\" in the dictionary {'name': 'Alice', 'age': 30}.\n",
        " dict1= {'name': 'Alice', 'age': 30}\n",
        " dict1[\"name\"]"
      ],
      "metadata": {
        "colab": {
          "base_uri": "https://localhost:8080/",
          "height": 36
        },
        "id": "9pCkKc07uoDB",
        "outputId": "3b2e314d-e055-4949-f50c-bc9048632b8f"
      },
      "execution_count": 154,
      "outputs": [
        {
          "output_type": "execute_result",
          "data": {
            "text/plain": [
              "'Alice'"
            ],
            "application/vnd.google.colaboratory.intrinsic+json": {
              "type": "string"
            }
          },
          "metadata": {},
          "execution_count": 154
        }
      ]
    },
    {
      "cell_type": "code",
      "source": [
        "# 24. Write a code to remove the key \"age\" from the dictionary {'name': 'Bob', 'age': 22, 'city': 'New York'}.\n",
        "dict2 = {'name': 'Bob', 'age': 22, 'city': 'New York'}\n",
        "dict2.pop(\"age\")\n",
        "print(dict2)"
      ],
      "metadata": {
        "colab": {
          "base_uri": "https://localhost:8080/"
        },
        "id": "_dr-oAoZv--B",
        "outputId": "da535fe8-4b6a-4c82-ba7d-1fd52f83656a"
      },
      "execution_count": 155,
      "outputs": [
        {
          "output_type": "stream",
          "name": "stdout",
          "text": [
            "{'name': 'Bob', 'city': 'New York'}\n"
          ]
        }
      ]
    },
    {
      "cell_type": "code",
      "source": [
        "# 25. Write a code to check if the key \"city\" exists in the dictionary {'name': 'Alice', 'city': 'Paris'}.\n",
        "dict3 = {'name': 'Alice', 'city': 'Paris'}\n",
        "\"city\" in dict3"
      ],
      "metadata": {
        "colab": {
          "base_uri": "https://localhost:8080/"
        },
        "id": "JrC6v3AjwjW9",
        "outputId": "1f19e265-6dfc-427b-d969-fa871be5fb88"
      },
      "execution_count": 156,
      "outputs": [
        {
          "output_type": "execute_result",
          "data": {
            "text/plain": [
              "True"
            ]
          },
          "metadata": {},
          "execution_count": 156
        }
      ]
    },
    {
      "cell_type": "code",
      "source": [
        "# 26.  Write a code to create a list, a tuple, and a dictionary, and print them all.\n",
        "dict3 = {'name': 'Alice', 'city': 'Paris'}\n",
        "print(dict3)\n",
        "tuple4 = ('apple','orange','pineapple')\n",
        "print(tuple4)\n",
        "list3 = ['a','b','c','d']\n",
        "print(list3)"
      ],
      "metadata": {
        "colab": {
          "base_uri": "https://localhost:8080/"
        },
        "id": "aSOkDfuDxmjj",
        "outputId": "36bd6351-cb2d-447c-bbd3-761b0deb93ac"
      },
      "execution_count": 157,
      "outputs": [
        {
          "output_type": "stream",
          "name": "stdout",
          "text": [
            "{'name': 'Alice', 'city': 'Paris'}\n",
            "('apple', 'orange', 'pineapple')\n",
            "['a', 'b', 'c', 'd']\n"
          ]
        }
      ]
    },
    {
      "cell_type": "code",
      "source": [
        "import random\n",
        "# 27.  Write a code to create a list of 5 random numbers between 1 and 100, sort it in ascending order, and print the result.(replaced)\n",
        "list7 = random.sample(range(1,101),5)\n",
        "list7.sort()\n",
        "print(list7)"
      ],
      "metadata": {
        "colab": {
          "base_uri": "https://localhost:8080/"
        },
        "id": "HUTvafeIyiDJ",
        "outputId": "4e8094e1-0024-4517-cadb-7609f2a58c7b"
      },
      "execution_count": 158,
      "outputs": [
        {
          "output_type": "stream",
          "name": "stdout",
          "text": [
            "[16, 20, 27, 57, 77]\n"
          ]
        }
      ]
    },
    {
      "cell_type": "code",
      "source": [
        "# 28. Write a code to create a list with strings and print the element at the third index.\n",
        "list9 = ['apple','orange','pineapple','mango','kiwi','grapes']\n",
        "list9 [3]"
      ],
      "metadata": {
        "colab": {
          "base_uri": "https://localhost:8080/",
          "height": 36
        },
        "id": "BJmTWpWMzrNB",
        "outputId": "bc6ec1e2-ce3f-4e77-81b3-72cbca92d440"
      },
      "execution_count": 159,
      "outputs": [
        {
          "output_type": "execute_result",
          "data": {
            "text/plain": [
              "'mango'"
            ],
            "application/vnd.google.colaboratory.intrinsic+json": {
              "type": "string"
            }
          },
          "metadata": {},
          "execution_count": 159
        }
      ]
    },
    {
      "cell_type": "code",
      "source": [
        "# 29. Write a code to combine two dictionaries into one and print the result.\n",
        "dict3 = {'name': 'Alice', 'city': 'Paris'}\n",
        "dict4 ={'ocean': 'indian ocean','defence':'indian army, indian air force, indian navy'}\n",
        "dict3.update(dict4)\n",
        "print(dict3)"
      ],
      "metadata": {
        "colab": {
          "base_uri": "https://localhost:8080/"
        },
        "id": "VythM0vR1i3F",
        "outputId": "0f131c5f-1a15-48f3-f991-15552436c23d"
      },
      "execution_count": 160,
      "outputs": [
        {
          "output_type": "stream",
          "name": "stdout",
          "text": [
            "{'name': 'Alice', 'city': 'Paris', 'ocean': 'indian ocean', 'defence': 'indian army, indian air force, indian navy'}\n"
          ]
        }
      ]
    },
    {
      "cell_type": "code",
      "source": [
        "del set"
      ],
      "metadata": {
        "id": "zY5KPiSr3G4I"
      },
      "execution_count": 161,
      "outputs": []
    },
    {
      "cell_type": "code",
      "source": [
        "# 30. Write a code to convert a list of strings into a set.\n",
        "list4 = [10,20,30,40,50]\n",
        "set_numbers = set(list4)\n",
        "print(set_numbers)"
      ],
      "metadata": {
        "colab": {
          "base_uri": "https://localhost:8080/"
        },
        "id": "4mvXZHcB2gJp",
        "outputId": "17cb31f7-84f0-4c5a-9e3f-9ddb66ca6dea"
      },
      "execution_count": 162,
      "outputs": [
        {
          "output_type": "stream",
          "name": "stdout",
          "text": [
            "{40, 10, 50, 20, 30}\n"
          ]
        }
      ]
    },
    {
      "cell_type": "code",
      "source": [],
      "metadata": {
        "id": "LMOFIW9d7-53"
      },
      "execution_count": 162,
      "outputs": []
    }
  ]
}