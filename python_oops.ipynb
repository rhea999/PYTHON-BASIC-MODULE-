{
  "nbformat": 4,
  "nbformat_minor": 0,
  "metadata": {
    "colab": {
      "provenance": []
    },
    "kernelspec": {
      "name": "python3",
      "display_name": "Python 3"
    },
    "language_info": {
      "name": "python"
    }
  },
  "cells": [
    {
      "cell_type": "markdown",
      "source": [
        "# 1. What is Object-Oriented Programming (OOP)?\n",
        "\n",
        "Object-Oriented Programming (OOP) is a programming approach that organizes software design around objects rather than functions and logic. An object is an instance of a class, which is a blueprint that defines properties (data) and behaviors (methods).\n",
        "\n",
        "example:-\n",
        "    class Animal:\n",
        "    def __init__(self, name):\n",
        "        self.name = name\n",
        "\n",
        "    def speak(self):\n",
        "        return \"Some sound\"\n",
        "\n",
        "    class Dog(Animal):\n",
        "    def speak(self):\n",
        "        return \"Woof!\"\n",
        "\n",
        "    class Cat(Animal):\n",
        "    def speak(self):\n",
        "        return \"Meow!\"\n",
        "        \n",
        "    animals = [Dog(\"Buddy\"), Cat(\"Whiskers\")]\n",
        "    for animal in animals:\n",
        "    print(f\"{animal.name} says {animal.speak()}\")"
      ],
      "metadata": {
        "id": "fl03L4CdM-JP"
      }
    },
    {
      "cell_type": "markdown",
      "source": [
        "2. What is a class in OOP?\n",
        "\n",
        "A class is a blueprint or template for creating objects. It defines attributes (data/properties) and methods (functions/behaviors) that the objects created from the class will have.\n",
        "\n",
        "    # Defining a class\n",
        "    class Car:\n",
        "    # Constructor method\n",
        "    def __init__(self, brand, model, year):\n",
        "        self.brand = brand  # Attribute\n",
        "        self.model = model\n",
        "        self.year = year\n",
        "\n",
        "    # Method (behavior)\n",
        "    def display_info(self):\n",
        "        print(f\"{self.year} {self.brand} {self.model}\")\n",
        "\n",
        "    # Creating objects (instances of the class)\n",
        "    car1 = Car(\"Toyota\", \"Camry\", 2020)\n",
        "    car2 = Car(\"Honda\", \"Civic\", 2022)\n",
        "\n",
        "    # Using object methods\n",
        "    car1.display_info()   # Output: 2020 Toyota Camry\n",
        "    car2.display_info()   # Output: 2022 Honda Civic\n",
        "\n"
      ],
      "metadata": {
        "id": "WmWQtZskMzrG"
      }
    },
    {
      "cell_type": "markdown",
      "source": [
        "3.What is an object in OOP?\n",
        "\n",
        " An object is a real-world instance of a class. It contains actual values for the attributes defined in the class and can use the methods (functions) of the class.\n",
        "\n",
        "Class = Blueprint\n",
        "\n",
        "Object = Actual item built from the blueprint\n",
        "\n",
        "   # Define a class\n",
        "    class Person:\n",
        "    def __init__(self, name, age):\n",
        "        self.name = name    # Attribute\n",
        "        self.age = age\n",
        "\n",
        "    def greet(self):        # Method\n",
        "        print(f\"Hello, my name is {self.name} and I am {self.age} years old.\")\n",
        "\n",
        "     # Create objects (instances of the class)\n",
        "    person1 = Person(\"rhea\", 25)\n",
        "    person2 = Person(\"mummy\", 30)\n",
        "\n",
        "     # Use the objects\n",
        "    person1.greet()   # Output: Hello, my name is rhea and I am 25 years old.\n",
        "    person2.greet()   # Output: Hello, my name is mummy and I am 30 years old."
      ],
      "metadata": {
        "id": "yjsn_88KNjCu"
      }
    },
    {
      "cell_type": "markdown",
      "source": [
        "4. H What is the difference between abstraction and encapsulation?\n",
        "\n",
        "\n",
        "\n",
        "1.   Abstraction\n",
        "\n",
        "\n",
        "*   Hides implementation details and shows only essential features.\n",
        "*   To simplify complex systems by exposing only what's necessary.\n",
        "\n",
        "*   example:\n",
        "\n",
        "      from abc import ABC, abstractmethod\n",
        "\n",
        "      class Animal(ABC):\n",
        "          @abstractmethod\n",
        "          def speak(self):\n",
        "              pass\n",
        "\n",
        "      class Dog(Animal):\n",
        "        def speak(self):\n",
        "           return \"Woof!\"\n",
        "\n",
        "\n",
        "\n",
        "\n",
        "\n",
        "2.   Encapsulation\n",
        "\n",
        "\n",
        "\n",
        "*   Bundles data and methods into a single unit (class) and restricts access.\n",
        "*   To protect data from unauthorized access and ensure controlled interaction.\n",
        "\n",
        "\n",
        "*   example:\n",
        "\n",
        "    class Person:\n",
        "      def __init__(self, name, age):\n",
        "          self.__name = name    # Private attribute\n",
        "          self.__age = age\n",
        "    def get_age(self):\n",
        "      return self.__age\n",
        "        def set_age(self, age):\n",
        "            if age > 0:\n",
        "            self.__age = age\n",
        "\n",
        "\n",
        "\n",
        "\n"
      ],
      "metadata": {
        "id": "Lei-t05SOK1E"
      }
    },
    {
      "cell_type": "markdown",
      "source": [
        "5. What are dunder methods in Python?\n",
        "\n",
        "Dunder methods (short for \"double underscore\" methods), also known as magic methods or special methods, are predefined methods in Python that start and end with double underscores: __like_this__.\n",
        "\n",
        "They let you define or customize the behavior of your objects for built-in operations like printing, arithmetic, length, comparisons, etc.\n",
        "\n",
        "example\n",
        "\n",
        "    class Book:\n",
        "    def __init__(self, title, pages):\n",
        "        self.title = title\n",
        "        self.pages = pages\n",
        "\n",
        "    def __str__(self):\n",
        "        return f\"Book: {self.title}\"\n",
        "\n",
        "    def __len__(self):\n",
        "        return self.pages\n",
        "    # Creating an object\n",
        "    b = Book(\"1984\", 328)\n",
        "\n",
        "    print(b)       # Calls __str__ → Output: Book: 1984\n",
        "    print(len(b))  # Calls __len__ → Output: 328\n",
        "\n",
        "\n"
      ],
      "metadata": {
        "id": "34ZIeLfkPwSO"
      }
    },
    {
      "cell_type": "markdown",
      "source": [
        "6.  Explain the concept of inheritance in OOP?\n",
        "\n",
        "Inheritance is a key concept in OOP where a class (child/subclass) can inherit properties and methods from another class (parent/superclass). This allows code reusability and helps build relationships between classes.\n",
        "\n",
        "In simple terms: The child class gets the behavior (methods) and attributes (data) of the parent class.\n",
        "\n",
        "example:\n",
        "\n",
        "      def speak(self):\n",
        "        return \"Some sound\"\n",
        "\n",
        "    class Dog(Animal):\n",
        "      def speak(self):\n",
        "        return \"Woof!\"\n",
        "\n",
        "    class Cat(Animal):\n",
        "      def speak(self):\n",
        "        return \"Meow!\"\n",
        "\n",
        "    animals = [Dog(\"Buddy\"), Cat(\"Whiskers\")]\n",
        "    for animal in animals:\n",
        "      print(f\"{animal.name} says {animal.speak()}\")"
      ],
      "metadata": {
        "id": "hnTjkx59RneU"
      }
    },
    {
      "cell_type": "markdown",
      "source": [
        "7.   What is polymorphism in OOP?\n",
        "\n",
        "Polymorphism means “many forms”. In OOP, polymorphism allows objects of different classes to be treated through the same interface, even if they behave differently.\n",
        "\n",
        "      class Animal:\n",
        "    def speak(self):\n",
        "        return \"Some sound\"\n",
        "\n",
        "      class Dog(Animal):\n",
        "        def speak(self):\n",
        "        return \"Woof!\"\n",
        "\n",
        "    class Cat(Animal):\n",
        "      def speak(self):\n",
        "        return \"Meow!\"\n",
        "\n",
        "    # Polymorphism in action\n",
        "    animals = [Dog(), Cat(), Animal()]\n",
        "\n",
        "    for animal in animals:\n",
        "      print(animal.speak())\n",
        "\n",
        "    # output\n",
        "    Woof!\n",
        "    Meow!\n",
        "    Some sound"
      ],
      "metadata": {
        "id": "f2_rOafNSUJ7"
      }
    },
    {
      "cell_type": "markdown",
      "source": [
        "8. How is encapsulation achieved in Python?\n",
        "\n",
        "Encapsulation in Python is the process of bundling data (attributes) and methods (functions) that operate on that data into a single unit — a class — and restricting access to some components to protect the internal state of the object.\n",
        "\n",
        "1. Public\t/No underscore/\tAccessible from anywhere.\n",
        "2. Protected/\t_single_underscore/\tSuggests internal use (not enforced).\n",
        "3. Private/\t__double_underscore/\tName mangling makes it harder to access.\n",
        "\n",
        "\n",
        "example:\n",
        "\n",
        "        class Person:\n",
        "    def __init__(self, name, age):\n",
        "        self.name = name            # Public attribute\n",
        "        self._salary = 50000        # Protected attribute (convention)\n",
        "        self.__ssn = \"123-45-6789\"  # Private attribute\n",
        "\n",
        "    def get_ssn(self):\n",
        "        return self.__ssn\n",
        "\n",
        "    def set_ssn(self, new_ssn):\n",
        "        if isinstance(new_ssn, str) and len(new_ssn) == 11:\n",
        "            self.__ssn = new_ssn\n"
      ],
      "metadata": {
        "id": "7l5Pwa5iS4zc"
      }
    },
    {
      "cell_type": "markdown",
      "source": [
        "9. What is a constructor in Python?\n",
        "\n",
        "A constructor in Python is a special method named __init__ that is automatically called when a new object of a class is created. Its main purpose is to initialize the object’s attributes (properties) with given values or defaults.\n",
        "\n",
        "        class Car:\n",
        "    def __init__(self, brand, year):\n",
        "        self.brand = brand\n",
        "        self.year = year\n",
        "\n",
        "    my_car = Car(\"Toyota\", 2020)\n",
        "    print(my_car.brand)  # Output: Toyota\n",
        "    print(my_car.year)   # Output: 2020\n",
        "\n",
        "    Here, when my_car is created, __init__ sets brand and year."
      ],
      "metadata": {
        "id": "Eo0IlAzDT0B7"
      }
    },
    {
      "cell_type": "markdown",
      "source": [
        "10. What are class and static methods in Python?\n",
        "\n",
        "1. Class Method\n",
        "Defined using the @classmethod decorator.\n",
        "\n",
        "Takes cls as the first parameter, which refers to the class (not the instance).\n",
        "\n",
        "Can access or modify class-level data.\n",
        "\n",
        "Useful for creating factory methods.\n",
        "\n",
        "Example:\n",
        "\n",
        "        class Person:\n",
        "    species = \"Human\"\n",
        "\n",
        "    def __init__(self, name):\n",
        "        self.name = name\n",
        "\n",
        "    @classmethod\n",
        "    def info(cls):\n",
        "        return f\"All persons are {cls.species}\"\n",
        "\n",
        "    print(Person.info())  # Output: All persons are Human\n",
        "\n",
        " 2. Static Method\n",
        "Defined using the @staticmethod decorator.\n",
        "\n",
        "Does not take self or cls as a parameter.\n",
        "\n",
        "Cannot access or modify class or instance attributes.\n",
        "\n",
        "Used for utility functions that are logically related to the class, but don’t need access to it.\n",
        "\n",
        " Example:\n",
        "\n",
        "      class Math:\n",
        "    @staticmethod\n",
        "    def add(x, y):\n",
        "        return x + y\n",
        "\n",
        "    print(Math.add(5, 3))  # Output: 8"
      ],
      "metadata": {
        "id": "QTRtZCorbUIU"
      }
    },
    {
      "cell_type": "markdown",
      "source": [
        "11. What is method overloading in Python?\n",
        "\n",
        "Method Overloading means defining multiple methods with the same name but different parameters (number or type). It allows a method to perform different tasks based on the arguments passed.\n",
        "\n",
        "\n",
        "        class Demo:\n",
        "    def greet(self, name=None):\n",
        "        if name:\n",
        "            print(\"Hello\", name)\n",
        "        else:\n",
        "            print(\"Hello\")\n",
        "\n",
        "    d = Demo()\n",
        "    d.greet()          # Output: Hello\n",
        "    d.greet(\"Alice\")   # Output: Hello Alice"
      ],
      "metadata": {
        "id": "jW8nQmYacQ3c"
      }
    },
    {
      "cell_type": "markdown",
      "source": [
        "12. What is method overriding in OOP?\n",
        "\n",
        "Method overriding occurs when a child class (subclass) defines a method with the same name, arguments, and return type as a method in its parent class (superclass).\n",
        "This allows the child class to provide its own specific implementation, replacing the behavior inherited from the parent.\n",
        "\n",
        "      class Animal:\n",
        "    def speak(self):\n",
        "        return \"Animal makes a sound\"\n",
        "\n",
        "class Dog(Animal):\n",
        "    def speak(self):\n",
        "        return \"Woof!\"\n",
        "\n",
        "class Cat(Animal):\n",
        "    def speak(self):\n",
        "        return \"Meow!\"\n",
        "\n",
        "    # Using the overridden methods\n",
        "    a = Animal()\n",
        "    d = Dog()\n",
        "    c = Cat()\n",
        "\n",
        "    print(a.speak())  # Output: Animal makes a sound\n",
        "    print(d.speak())  # Output: Woof!\n",
        "    print(c.speak())  # Output: Meow!\n"
      ],
      "metadata": {
        "id": "x_ZEcGIlcm9o"
      }
    },
    {
      "cell_type": "markdown",
      "source": [
        "13. What is a property decorator in Python?\n",
        "\n",
        "The @property decorator in Python is used to convert a method into a read-only property. It allows accessing methods like attributes, which improves encapsulation and readability.\n",
        "\n"
      ],
      "metadata": {
        "id": "d7P4UG4cdcAM"
      }
    },
    {
      "cell_type": "markdown",
      "source": [
        "14. Why is polymorphism important in OOP?\n",
        "\n",
        "Polymorphism — meaning “many forms” — is a fundamental concept in OOP that allows objects of different classes to be treated through a common interface, enabling flexibility, reusability, and scalability in your code.\n",
        "\n",
        "1. Code Reusability\n",
        "You can write general code that works with different types of objects, reducing duplication.\n",
        "\n",
        "2. Flexibility & Extensibility\n",
        "You can add new classes without changing existing code, as long as they follow the expected interface.\n",
        "\n",
        "Example: Add a Cow class with a speak() method, and it works seamlessly with make_it_speak().\n",
        "\n",
        "3. Simplifies Code\n",
        "You avoid long if/elif chains checking for object types and calling different methods.\n",
        "\n",
        "4. Supports Design Patterns\n",
        "Many powerful design patterns (e.g., Strategy, Factory, Command) depend on polymorphism to swap objects at runtime with consistent interfaces."
      ],
      "metadata": {
        "id": "gS-PXyvJdosb"
      }
    },
    {
      "cell_type": "markdown",
      "source": [
        "15. What is an abstract class in Python?\n",
        "\n",
        "An abstract class in Python is a class that cannot be instantiated directly. It is meant to be inherited by other classes, and it typically defines abstract methods that must be implemented by its child (sub) classes.\n",
        "\n",
        "Abstract classes act like a template or blueprint for other classes.\n",
        "\n",
        "        from abc import ABC, abstractmethod\n",
        "\n",
        "    class Animal(ABC):\n",
        "       @abstractmethod\n",
        "      def speak(self):\n",
        "        pass  # No implementation\n",
        "\n",
        "    class Dog(Animal):\n",
        "       def speak(self):\n",
        "        return \"Woof!\"\n",
        "\n",
        "    class Cat(Animal):\n",
        "      def speak(self):\n",
        "        return \"Meow!\"\n",
        "\n",
        "    # animal = Animal()     #  Error: Can't instantiate abstract class\n",
        "    dog = Dog()\n",
        "    print(dog.speak())      #  Output: Woof!"
      ],
      "metadata": {
        "id": "74WDAuUleE5g"
      }
    },
    {
      "cell_type": "markdown",
      "source": [
        "16. What are the advantages of OOP?\n",
        "\n",
        "Object-Oriented Programming (OOP) offers a structured, scalable, and reusable approach to writing code. It revolves around the concepts of classes and objects, making it easier to manage complex software systems.\n",
        "\n",
        "1. Modularity\n",
        "Code is organized into classes and objects, making it modular.\n",
        "\n",
        "Each class has a clear purpose and encapsulates its own data and behavior.\n",
        "\n",
        " Example: A Car class can be developed and tested independently from a Person class.\n",
        "\n",
        " 2. Reusability (via Inheritance)\n",
        "You can reuse existing code by inheriting from existing classes.\n",
        "\n",
        "This avoids duplication and speeds up development.\n",
        "\n",
        "Example: A Truck class can inherit common features from a Vehicle class.\n",
        "\n",
        "3. Polymorphism\n",
        "Objects of different classes can be used interchangeably if they share the same interface.\n",
        "\n",
        "Enables flexible and clean code.\n",
        "\n",
        "Example: A function can call speak() on any object that implements it, whether it's a Dog, Cat, or Robot.\n",
        "\n",
        "4. Abstraction\n",
        "Only relevant details are shown to the user, hiding complex implementation.\n",
        "\n",
        "Helps reduce complexity and improves user focus.\n",
        "\n",
        "Example: You use a print() method without knowing how it works internally.\n",
        "\n",
        "5. Easier Maintenance and Scalability\n",
        "OOP makes it easier to maintain and extend large codebases.\n",
        "\n",
        "New features can be added with minimal changes to existing code.\n",
        "\n"
      ],
      "metadata": {
        "id": "sAPkonqYqJxz"
      }
    },
    {
      "cell_type": "markdown",
      "source": [
        "17. What is the difference between a class variable and an instance variable?\n",
        "\n",
        "1. Class Variable\n",
        "Belongs to the class, shared by all instances.\n",
        "\n",
        "Defined outside any method, typically at the top of the class.\n",
        "\n",
        "Changing it from one instance affects all instances (if accessed through the class).\n",
        "\n",
        "Example:\n",
        "\n",
        "    class Dog:\n",
        "    species = \"Canine\"  # Class variable\n",
        "\n",
        "    def __init__(self, name):\n",
        "        self.name = name  # Instance variable\n",
        "\n",
        "    dog1 = Dog(\"Rex\")\n",
        "    dog2 = Dog(\"Buddy\")\n",
        "\n",
        "    print(dog1.species)  # Output: Canine\n",
        "    print(dog2.species)  # Output: Canine\n",
        "\n",
        "    Dog.species = \"Mammal\"\n",
        "    print(dog1.species)  # Output: Mammal (affected both instances)\n",
        "\n",
        "2. Instance Variable\n",
        "Belongs to the specific object (instance) of the class.\n",
        "\n",
        "Defined inside the __init__ method using self.\n",
        "\n",
        "Each object has its own copy of the variable.\n",
        "\n",
        "Continuing from the example:\n",
        "\n",
        "    dog1.name = \"Max\"\n",
        "    print(dog1.name)  # Output: Max\n",
        "    print(dog2.name)  # Output: Buddy (remains unchanged)"
      ],
      "metadata": {
        "id": "-qKTI7F_qrLo"
      }
    },
    {
      "cell_type": "markdown",
      "source": [
        "18. What is multiple inheritance in Python?\n",
        "\n",
        "Multiple Inheritance is a feature in Python where a class can inherit from more than one parent class.\n",
        "This allows a child class to gain the properties and methods of multiple base classes.\n",
        "\n",
        "        class Father:\n",
        "    def skills(self):\n",
        "        print(\"Gardening, Carpentry\")\n",
        "\n",
        "    class Mother:\n",
        "      def skills(self):\n",
        "        print(\"Cooking, Art\")\n",
        "\n",
        "    class Child(Father, Mother):\n",
        "     pass\n",
        "\n",
        "    c = Child()\n",
        "    c.skills()  # Output: Gardening, Carpentry  ← due to Method Resolution Order (MRO)"
      ],
      "metadata": {
        "id": "2a_BS4syrJ1l"
      }
    },
    {
      "cell_type": "markdown",
      "source": [
        "19.  Explain the purpose of ‘’__str__’ and ‘__repr__’ ‘ methods in Python\n",
        "\n",
        "1. __str__ and __repr__ are special methods used to define how objects are represented as strings. They are especially useful for debugging and printing objects in a meaningful way.\n",
        "\n",
        "__str__ – User-Friendly String Representation\n",
        "Used by the print() function and str() function.\n",
        "\n",
        "Should return a readable, user-friendly string.\n",
        "\n",
        "Think of it as a description for end users.\n",
        "\n",
        "example:\n",
        "\n",
        "        class Book:\n",
        "    def __init__(self, title):\n",
        "        self.title = title\n",
        "\n",
        "    def __str__(self):\n",
        "        return f\"Book Title: {self.title}\"\n",
        "\n",
        "    b = Book(\"Python Basics\")\n",
        "    print(b)  # Output: Book Title: Python Basics\n",
        "\n",
        "2. __repr__ – Developer-Friendly Representation\n",
        "Used by the repr() function, interactive shells, and debuggers.\n",
        "\n",
        "Should return a valid Python expression, if possible, or at least something unambiguous.\n",
        "\n",
        "Think of it as a representation for developers.\n",
        "\n",
        "example:\n",
        "\n",
        "        class Book:\n",
        "    def __init__(self, title):\n",
        "        self.title = title\n",
        "\n",
        "    def __repr__(self):\n",
        "        return f\"Book('{self.title}')\"\n",
        "\n",
        "    b = Book(\"Python Basics\")\n",
        "    print(repr(b))  # Output: Book('Python Basics')"
      ],
      "metadata": {
        "id": "CtUS-tblrcu3"
      }
    },
    {
      "cell_type": "markdown",
      "source": [
        "20. What is the significance of the ‘super()’ function in Python?\n",
        "\n",
        "The super() function in Python is used to call a method from a parent (super) class. It is most commonly used in inheritance to ensure that the parent class is properly initialized or to extend its behavior.\n",
        "\n",
        "        class Parent:\n",
        "    def __init__(self):\n",
        "        print(\"Parent constructor\")\n",
        "\n",
        "    class Child(Parent):\n",
        "      def __init__(self):\n",
        "        super().__init__()  # Calls Parent's __init__()\n",
        "        print(\"Child constructor\")\n",
        "\n",
        "    c = Child()\n",
        "    # Output:\n",
        "    # Parent constructor\n",
        "    # Child constructor\n",
        "\n",
        "With Method Overriding:\n",
        "\n",
        "        class Animal:\n",
        "          def speak(self):\n",
        "        print(\"Animal speaks\")\n",
        "\n",
        "    class Dog(Animal):\n",
        "     def speak(self):\n",
        "        super().speak()\n",
        "        print(\"Dog barks\")\n",
        "\n",
        "    d = Dog()\n",
        "    d.speak()\n",
        "    # Output:\n",
        "    # Animal speaks\n",
        "    # Dog barks\n",
        "super() and Multiple Inheritance (MRO):\n",
        "\n",
        "\n",
        "        class A:\n",
        "    def show(self):\n",
        "        print(\"A\")\n",
        "\n",
        "    class B(A):\n",
        "      def show(self):\n",
        "        super().show()\n",
        "        print(\"B\")\n",
        "\n",
        "    class C(A):\n",
        "     def show(self):\n",
        "        super().show()\n",
        "        print(\"C\")\n",
        "\n",
        "    class D(B, C):\n",
        "     def show(self):\n",
        "        super().show()\n",
        "        print(\"D\")\n",
        "\n",
        "    d = D()\n",
        "    d.show()\n",
        "\n",
        "    # Output:\n",
        "    # A\n",
        "    # C\n",
        "    # B\n",
        "    # D\n",
        "\n",
        "    print(D.__mro__) #Here, Python uses Method Resolution Order (MRO) to determine the order in which methods are called.\n",
        "\n",
        "\n"
      ],
      "metadata": {
        "id": "LVHqkEmQsIH7"
      }
    },
    {
      "cell_type": "markdown",
      "source": [
        "21. What is the significance of the __del__ method in Python?\n",
        "\n",
        "The __del__() method in Python is a special method called a destructor. It's automatically invoked when an object is about to be destroyed, allowing you to define cleanup behavior — like closing files, releasing resources, or logging the deletion.\n",
        "\n",
        "    class FileHandler:\n",
        "      def __init__(self, filename):\n",
        "        self.file = open(filename, 'w')\n",
        "        print(\"File opened\")\n",
        "\n",
        "    def __del__(self):\n",
        "        self.file.close()\n",
        "        print(\"File closed\")\n",
        "\n",
        "    f = FileHandler(\"test.txt\")\n",
        "    del f  # Triggers __del__()"
      ],
      "metadata": {
        "id": "COGlVv64voFr"
      }
    },
    {
      "cell_type": "markdown",
      "source": [
        "22. What is the difference between @staticmethod and @classmethod in Python?\n",
        "\n",
        "@staticmethod: Doesn’t access instance (self) or class (cls). Use for independent utility functions.\n",
        "\n",
        "@classmethod: Receives the class as the first argument (cls). Use when you need to access or modify class state.\n",
        "\n",
        "    class MyClass:\n",
        "      class_variable = 0\n",
        "\n",
        "    @staticmethod\n",
        "    def static_method(x, y):\n",
        "        return x + y\n",
        "\n",
        "    @classmethod\n",
        "    def class_method(cls):\n",
        "        cls.class_variable += 1\n",
        "        return cls.class_variable\n",
        "\n",
        "  Static Method\n",
        "\n",
        "      print(MyClass.static_method(2, 3))  # Output: 5\n",
        "\n",
        "Class Method\n",
        "\n",
        "      print(MyClass.class_method())  # Output: 1\n",
        "      print(MyClass.class_method())  # Output: 2\n"
      ],
      "metadata": {
        "id": "I-IQGUqOwmBr"
      }
    },
    {
      "cell_type": "markdown",
      "source": [
        "23. How does polymorphism work in Python with inheritance?\n",
        "\n",
        "Polymorphism in Python allows different classes to implement methods with the same name, enabling interchangeable object behavior. When used with inheritance, it allows a child class to override a method of its parent class and still be treated as an instance of the parent.\n",
        "\n",
        "Example of Polymorphism with Inheritance:\n",
        "\n",
        "          class Animal:\n",
        "    def speak(self):\n",
        "        return \"Animal makes a sound\"\n",
        "\n",
        "    class Dog(Animal):\n",
        "    def speak(self):\n",
        "        return \"Dog barks\"\n",
        "\n",
        "    class Cat(Animal):\n",
        "    def speak(self):\n",
        "        return \"Cat meows\"\n",
        "\n",
        "    # Polymorphism in action\n",
        "    animals = [Dog(), Cat(), Animal()]\n",
        "\n",
        "    for animal in animals:\n",
        "    print(animal.speak())\n",
        "\n",
        "    # output\n",
        "    Dog barks\n",
        "    Cat meows\n",
        "    Animal makes a sound\n",
        "\n"
      ],
      "metadata": {
        "id": "XxWsSmurxiUb"
      }
    },
    {
      "cell_type": "markdown",
      "source": [
        "24. What is method chaining in Python OOP?\n",
        "\n",
        "Method chaining is a technique in Object-Oriented Programming (OOP) where multiple method calls are chained together in a single line, using dot (.) notation.\n",
        "\n",
        "This is made possible by having each method return self (i.e., the object instance), so you can call the next method on it.\n",
        "\n",
        "\n",
        "class Person:\n",
        "    def __init__(self):\n",
        "        self.name = \"\"\n",
        "        self.age = 0\n",
        "\n",
        "    def set_name(self, name):\n",
        "        self.name = name\n",
        "        return self  # Enables chaining\n",
        "\n",
        "    def set_age(self, age):\n",
        "        self.age = age\n",
        "        return self  # Enables chaining\n",
        "\n",
        "    def display(self):\n",
        "        print(f\"Name: {self.name}, Age: {self.age}\")\n",
        "        return self\n",
        "\n",
        "    # Method chaining in action\n",
        "    p = Person()\n",
        "    p.set_name(\"Alice\").set_age(30).display()\n",
        "\n",
        "    # output\n",
        "    Name: Alice, Age: 30\n",
        "\n"
      ],
      "metadata": {
        "id": "ZVDODddhyCzE"
      }
    },
    {
      "cell_type": "markdown",
      "source": [
        "25. What is the purpose of the __call__ method in Python?\n",
        "\n",
        "The __call__() method in Python allows an instance of a class to be called like a function.\n",
        "\n",
        "When you define __call__() inside a class, you're telling Python that this object can be \"called\" — just like you would call a function using parentheses ().\n",
        "\n",
        "        class Greeter:\n",
        "    def __init__(self, name):\n",
        "        self.name = name\n",
        "\n",
        "    def __call__(self):\n",
        "        print(f\"Hello, {self.name}!\")\n",
        "\n",
        "    g = Greeter(\"Alice\")\n",
        "    g()  # Equivalent to g.__call__()\n",
        "\n",
        "    #OUTPUT\n",
        "    Hello, Alice!\n"
      ],
      "metadata": {
        "id": "CiA5AkWcygfw"
      }
    },
    {
      "cell_type": "markdown",
      "source": [
        "# practice questions\n"
      ],
      "metadata": {
        "id": "kyqdockX0eFr"
      }
    },
    {
      "cell_type": "code",
      "source": [
        "1. #Create a parent class Animal with a method speak() that prints a generic message. Create a child class Dog that overrides the speak() method to print \"Bark!\".\n",
        "\n",
        "class Animal:\n",
        "    def speak(self):\n",
        "        print(\"This animal makes a sound\")\n",
        "\n",
        "class Dog(Animal):\n",
        "    def speak(self):\n",
        "        print(\"Bark!\")\n",
        "\n",
        "# Example usage:\n",
        "a = Animal()\n",
        "a.speak()  # Output: This animal makes a sound\n",
        "\n",
        "d = Dog()\n",
        "d.speak()  # Output: Bark!\n"
      ],
      "metadata": {
        "colab": {
          "base_uri": "https://localhost:8080/"
        },
        "id": "BlxZcwYS0h3b",
        "outputId": "854fcad9-e6d5-4ae5-aafd-1f937e329fcf"
      },
      "execution_count": 8,
      "outputs": [
        {
          "output_type": "stream",
          "name": "stdout",
          "text": [
            "This animal makes a sound\n",
            "Bark!\n"
          ]
        }
      ]
    },
    {
      "cell_type": "code",
      "source": [
        "2. # Write a program to create an abstract class Shape with a method area(). Derive classes Circle and Rectangle from it and implement the area() method in both.\n",
        "\n",
        "from abc import ABC, abstractmethod\n",
        "import math\n",
        "\n",
        "class Shape(ABC):\n",
        "    @abstractmethod\n",
        "    def area(self):\n",
        "        pass\n",
        "\n",
        "class Circle(Shape):\n",
        "    def __init__(self, radius):\n",
        "        self.radius = radius\n",
        "\n",
        "    def area(self):\n",
        "        return math.pi * self.radius ** 2\n",
        "\n",
        "class Rectangle(Shape):\n",
        "    def __init__(self, width, height):\n",
        "        self.width = width\n",
        "        self.height = height\n",
        "\n",
        "    def area(self):\n",
        "        return self.width * self.height\n",
        "\n",
        "# Example usage:\n",
        "circle = Circle(5)\n",
        "print(\"Circle area:\", circle.area())\n",
        "\n",
        "rectangle = Rectangle(4, 6)\n",
        "print(\"Rectangle area:\", rectangle.area())"
      ],
      "metadata": {
        "colab": {
          "base_uri": "https://localhost:8080/"
        },
        "id": "odJqz8O_0xFS",
        "outputId": "aacffdcb-48da-4c4a-d371-11f1251ebf84"
      },
      "execution_count": 2,
      "outputs": [
        {
          "output_type": "stream",
          "name": "stdout",
          "text": [
            "Circle area: 78.53981633974483\n",
            "Rectangle area: 24\n"
          ]
        }
      ]
    },
    {
      "cell_type": "code",
      "source": [
        "3. #. Implement a multi-level inheritance scenario where a class Vehicle has an attribute type. Derive a class Car and further derive a class ElectricCar that adds a battery attribute.\n",
        "\n",
        "class Vehicle:\n",
        "    def __init__(self, vehicle_type):\n",
        "        self.type = vehicle_type\n",
        "\n",
        "    def display_type(self):\n",
        "        print(f\"Vehicle type: {self.type}\")\n",
        "\n",
        "class Car(Vehicle):\n",
        "    def __init__(self, vehicle_type, brand):\n",
        "        super().__init__(vehicle_type)\n",
        "        self.brand = brand\n",
        "\n",
        "    def display_brand(self):\n",
        "        print(f\"Car brand: {self.brand}\")\n",
        "\n",
        "class ElectricCar(Car):\n",
        "    def __init__(self, vehicle_type, brand, battery_capacity):\n",
        "        super().__init__(vehicle_type, brand)\n",
        "        self.battery = battery_capacity  # in kWh\n",
        "\n",
        "    def display_battery(self):\n",
        "        print(f\"Battery capacity: {self.battery} kWh\")\n",
        "\n",
        "# Example usage:\n",
        "ecar = ElectricCar(\"Car\", \"Tesla\", 100)\n",
        "ecar.display_type()    # Vehicle type: Car\n",
        "ecar.display_brand()   # Car brand: Tesla\n",
        "ecar.display_battery() # Battery capacity: 100 kWh\n",
        "\n",
        "\n",
        "#ElectricCar inherits from Car\n",
        "\n",
        "#Car inherits from Vehicle\n",
        "\n",
        "#Attributes and methods are passed down the chain via super() calls"
      ],
      "metadata": {
        "colab": {
          "base_uri": "https://localhost:8080/"
        },
        "id": "okbh-eL71GlP",
        "outputId": "d04c9d8b-79e5-479b-9779-c3113af704e3"
      },
      "execution_count": 3,
      "outputs": [
        {
          "output_type": "stream",
          "name": "stdout",
          "text": [
            "Vehicle type: Car\n",
            "Car brand: Tesla\n",
            "Battery capacity: 100 kWh\n"
          ]
        }
      ]
    },
    {
      "cell_type": "code",
      "source": [
        "4. # Demonstrate polymorphism by creating a base class Bird with a method fly(). Create two derived classes Sparrow and Penguin that override the fly() method.\n",
        "\n",
        "class Bird:\n",
        "    def fly(self):\n",
        "        print(\"Some birds can fly\")\n",
        "\n",
        "class Sparrow(Bird):\n",
        "    def fly(self):\n",
        "        print(\"Sparrow is flying\")\n",
        "\n",
        "class Penguin(Bird):\n",
        "    def fly(self):\n",
        "        print(\"Penguins can't fly\")\n",
        "\n",
        "# Polymorphism in action:\n",
        "birds = [Sparrow(), Penguin()]\n",
        "\n",
        "for bird in birds:\n",
        "    bird.fly()\n",
        "\n"
      ],
      "metadata": {
        "colab": {
          "base_uri": "https://localhost:8080/"
        },
        "id": "82iyM7Qy1Zkx",
        "outputId": "02bc1a4c-0a13-4bec-bdbf-04bba71c91bd"
      },
      "execution_count": 4,
      "outputs": [
        {
          "output_type": "stream",
          "name": "stdout",
          "text": [
            "Sparrow is flying\n",
            "Penguins can't fly\n"
          ]
        }
      ]
    },
    {
      "cell_type": "code",
      "source": [
        "5. #Write a program to demonstrate encapsulation by creating a class BankAccount with private attributes balance and methods to deposit, withdraw, and check balance.\n",
        "\n",
        "class BankAccount:\n",
        "    def __init__(self, initial_balance=0):\n",
        "        self.__balance = initial_balance  # Private attribute\n",
        "\n",
        "    def deposit(self, amount):\n",
        "        if amount > 0:\n",
        "            self.__balance += amount\n",
        "            print(f\"Deposited: ${amount}\")\n",
        "        else:\n",
        "            print(\"Deposit amount must be positive\")\n",
        "\n",
        "    def withdraw(self, amount):\n",
        "        if amount > 0:\n",
        "            if amount <= self.__balance:\n",
        "                self.__balance -= amount\n",
        "                print(f\"Withdrew: ${amount}\")\n",
        "            else:\n",
        "                print(\"Insufficient balance\")\n",
        "        else:\n",
        "            print(\"Withdrawal amount must be positive\")\n",
        "\n",
        "    def get_balance(self):\n",
        "        return self.__balance\n",
        "\n",
        "# Example usage:\n",
        "account = BankAccount(100)\n",
        "account.deposit(50)\n",
        "account.withdraw(30)\n",
        "print(\"Balance:\", account.get_balance())\n",
        "\n",
        "# Trying to access private attribute directly (will raise AttributeError)\n",
        "# print(account.__balance)  # Uncommenting this line will cause an error\n",
        "\n",
        "\n",
        "#__balance is a private attribute (name mangled).\n",
        "\n",
        "#Methods deposit(), withdraw(), and get_balance() provide controlled access to it.\n",
        "\n",
        "#Direct access to __balance outside the class is not allowed."
      ],
      "metadata": {
        "colab": {
          "base_uri": "https://localhost:8080/"
        },
        "id": "ePebtEKf1ndt",
        "outputId": "86438209-1983-4245-ef82-664457fed0bc"
      },
      "execution_count": 5,
      "outputs": [
        {
          "output_type": "stream",
          "name": "stdout",
          "text": [
            "Deposited: $50\n",
            "Withdrew: $30\n",
            "Balance: 120\n"
          ]
        }
      ]
    },
    {
      "cell_type": "code",
      "source": [
        "6. #Demonstrate runtime polymorphism using a method play() in a base class Instrument. Derive classes Guitar and Piano that implement their own version of play().\n",
        "\n",
        "class Instrument:\n",
        "    def play(self):\n",
        "        print(\"Playing instrument\")\n",
        "\n",
        "class Guitar(Instrument):\n",
        "    def play(self):\n",
        "        print(\"Strumming the guitar\")\n",
        "\n",
        "class Piano(Instrument):\n",
        "    def play(self):\n",
        "        print(\"Playing the piano keys\")\n",
        "\n",
        "# Runtime polymorphism in action\n",
        "instruments = [Guitar(), Piano()]\n",
        "\n",
        "for instrument in instruments:\n",
        "    instrument.play()\n",
        "\n"
      ],
      "metadata": {
        "colab": {
          "base_uri": "https://localhost:8080/"
        },
        "id": "_iYdbJrQ2CU1",
        "outputId": "39a50e89-85b4-48ae-8f54-c8130acc7cdd"
      },
      "execution_count": 6,
      "outputs": [
        {
          "output_type": "stream",
          "name": "stdout",
          "text": [
            "Strumming the guitar\n",
            "Playing the piano keys\n"
          ]
        }
      ]
    },
    {
      "cell_type": "code",
      "source": [
        "7. #  Create a class MathOperations with a class method add_numbers() to add two numbers and a static method subtract_numbers() to subtract two numbers.\n",
        "\n",
        "class MathOperations:\n",
        "    @classmethod\n",
        "    def add_numbers(cls, a, b):\n",
        "        return a + b\n",
        "\n",
        "    @staticmethod\n",
        "    def subtract_numbers(a, b):\n",
        "        return a - b\n",
        "\n",
        "# Example usage:\n",
        "print(MathOperations.add_numbers(10, 5))\n",
        "print(MathOperations.subtract_numbers(10, 5))\n"
      ],
      "metadata": {
        "colab": {
          "base_uri": "https://localhost:8080/"
        },
        "id": "8EPwkcQ62O35",
        "outputId": "a92fcbaf-f7b5-4f42-f99b-53dce634eea9"
      },
      "execution_count": 7,
      "outputs": [
        {
          "output_type": "stream",
          "name": "stdout",
          "text": [
            "15\n",
            "5\n"
          ]
        }
      ]
    },
    {
      "cell_type": "code",
      "source": [
        "8. #  Implement a class Person with a class method to count the total number of persons created.\n",
        "\n",
        "class Person:\n",
        "    _count = 0  # Class variable to count instances\n",
        "\n",
        "    def __init__(self, name):\n",
        "        self.name = name\n",
        "        Person._count += 1  # Increment count whenever a new Person is created\n",
        "\n",
        "    @classmethod\n",
        "    def total_persons(cls):\n",
        "        return cls._count\n",
        "\n",
        "# Example usage:\n",
        "p1 = Person(\"rhea\")\n",
        "p2 = Person(\"mummy\")\n",
        "p3 = Person(\"papa\")\n",
        "\n",
        "print(\"Total persons created:\", Person.total_persons())"
      ],
      "metadata": {
        "colab": {
          "base_uri": "https://localhost:8080/"
        },
        "id": "Q90Umo2u2aPu",
        "outputId": "4cf7f02b-dea1-4adb-beab-f18b51271226"
      },
      "execution_count": 15,
      "outputs": [
        {
          "output_type": "stream",
          "name": "stdout",
          "text": [
            "Total persons created: 3\n"
          ]
        }
      ]
    },
    {
      "cell_type": "code",
      "source": [
        "9. #  Write a class Fraction with attributes numerator and denominator. Override the str method to display the fraction as \"numerator/denominator\".\n",
        "\n",
        "\n",
        "class Fraction:\n",
        "    def __init__(self, numerator, denominator):\n",
        "        self.numerator = numerator\n",
        "        self.denominator = denominator\n",
        "\n",
        "    def __str__(self):\n",
        "        return f\"{self.numerator}/{self.denominator}\"\n",
        "\n",
        "# Example usage:\n",
        "f = Fraction(3, 4)\n",
        "print(f)"
      ],
      "metadata": {
        "colab": {
          "base_uri": "https://localhost:8080/"
        },
        "id": "i6aG0FY23DcC",
        "outputId": "641ef796-7e21-4ab2-e3f0-e2cf65c7ac40"
      },
      "execution_count": 10,
      "outputs": [
        {
          "output_type": "stream",
          "name": "stdout",
          "text": [
            "3/4\n"
          ]
        }
      ]
    },
    {
      "cell_type": "code",
      "source": [
        "10. #  Demonstrate operator overloading by creating a class Vector and overriding the add method to add two vectors.\n",
        "\n",
        "class Vector:\n",
        "    def __init__(self, x, y):\n",
        "        self.x = x\n",
        "        self.y = y\n",
        "\n",
        "    def __add__(self, other):\n",
        "        if isinstance(other, Vector):\n",
        "            return Vector(self.x + other.x, self.y + other.y)\n",
        "        return NotImplemented\n",
        "\n",
        "    def __str__(self):\n",
        "        return f\"Vector({self.x}, {self.y})\"\n",
        "\n",
        "# Example usage:\n",
        "v1 = Vector(2, 3)\n",
        "v2 = Vector(4, 5)\n",
        "v3 = v1 + v2  # Uses __add__\n",
        "\n",
        "print(v3)"
      ],
      "metadata": {
        "colab": {
          "base_uri": "https://localhost:8080/"
        },
        "id": "S8Q9sAiZ3QxX",
        "outputId": "6d633d5c-f53c-4da5-e5a2-bf46dc13859d"
      },
      "execution_count": 11,
      "outputs": [
        {
          "output_type": "stream",
          "name": "stdout",
          "text": [
            "Vector(6, 8)\n"
          ]
        }
      ]
    },
    {
      "cell_type": "code",
      "source": [
        "11. #  Create a class Person with attributes name and age. Add a method greet() that prints \"Hello, my name is {name} and I am {age} years old.\"\n",
        "\n",
        "class Person:\n",
        "    def __init__(self, name, age):\n",
        "        self.name = name\n",
        "        self.age = age\n",
        "\n",
        "    def greet(self):\n",
        "        print(f\"Hello, my name is {self.name} and I am {self.age} years old.\")\n",
        "\n",
        "# Example usage:\n",
        "p = Person(\"rhea\", 25)\n",
        "p.greet()\n"
      ],
      "metadata": {
        "colab": {
          "base_uri": "https://localhost:8080/"
        },
        "id": "rCUgVZ0e3chG",
        "outputId": "fdd1e860-4639-4a66-b5a1-899c0be5dd74"
      },
      "execution_count": 14,
      "outputs": [
        {
          "output_type": "stream",
          "name": "stdout",
          "text": [
            "Hello, my name is rhea and I am 25 years old.\n"
          ]
        }
      ]
    },
    {
      "cell_type": "code",
      "source": [
        "12. #  Implement a class Student with attributes name and grades. Create a method average_grade() to compute the average of the grades.\n",
        "\n",
        "class Student:\n",
        "    def __init__(self, name, grades):\n",
        "        self.name = name\n",
        "        self.grades = grades  # List of grades\n",
        "\n",
        "    def average_grade(self):\n",
        "        if self.grades:\n",
        "            return sum(self.grades) / len(self.grades)\n",
        "        else:\n",
        "            return 0.0\n",
        "\n",
        "# Example usage:\n",
        "s = Student(\"rhea\", [85, 90, 78, 92])\n",
        "print(f\"{s.name}'s average grade is: {s.average_grade():.2f}\")\n"
      ],
      "metadata": {
        "colab": {
          "base_uri": "https://localhost:8080/"
        },
        "id": "HHNDB6xS3o8M",
        "outputId": "1895d08f-e024-4ff9-cc99-6126c8683eea"
      },
      "execution_count": 13,
      "outputs": [
        {
          "output_type": "stream",
          "name": "stdout",
          "text": [
            "rhea's average grade is: 86.25\n"
          ]
        }
      ]
    },
    {
      "cell_type": "code",
      "source": [
        "13. #  Create a class Rectangle with methods set_dimensions() to set the dimensions and area() to calculate the area.\n",
        "\n",
        "class Rectangle:\n",
        "    def __init__(self):\n",
        "        self.width = 0\n",
        "        self.height = 0\n",
        "\n",
        "    def set_dimensions(self, width, height):\n",
        "        self.width = width\n",
        "        self.height = height\n",
        "\n",
        "    def area(self):\n",
        "        return self.width * self.height\n",
        "\n",
        "# Example usage:\n",
        "rect = Rectangle()\n",
        "rect.set_dimensions(5, 10)\n",
        "print(\"Area of rectangle:\", rect.area())"
      ],
      "metadata": {
        "colab": {
          "base_uri": "https://localhost:8080/"
        },
        "id": "HhMw5M624B9t",
        "outputId": "34c9084d-30b7-4787-d75f-820273f027d1"
      },
      "execution_count": 16,
      "outputs": [
        {
          "output_type": "stream",
          "name": "stdout",
          "text": [
            "Area of rectangle: 50\n"
          ]
        }
      ]
    },
    {
      "cell_type": "code",
      "source": [
        "14. #  Create a class Employee with a method calculate_salary() that computes the salary based on hours worked and hourly rate. Create a derived class Manager that adds a bonus to the salary.\n",
        "\n",
        "class Employee:\n",
        "    def __init__(self, name, hours_worked, hourly_rate):\n",
        "        self.name = name\n",
        "        self.hours_worked = hours_worked\n",
        "        self.hourly_rate = hourly_rate\n",
        "\n",
        "    def calculate_salary(self):\n",
        "        return self.hours_worked * self.hourly_rate\n",
        "\n",
        "\n",
        "class Manager(Employee):\n",
        "    def __init__(self, name, hours_worked, hourly_rate, bonus):\n",
        "        super().__init__(name, hours_worked, hourly_rate)\n",
        "        self.bonus = bonus\n",
        "\n",
        "    def calculate_salary(self):\n",
        "        base_salary = super().calculate_salary()\n",
        "        return base_salary + self.bonus\n",
        "\n",
        "\n",
        "# Example usage:\n",
        "emp = Employee(\"rhea\", 40, 20)\n",
        "print(f\"{emp.name}'s salary: ${emp.calculate_salary()}\")\n",
        "\n",
        "mgr = Manager(\"mummy\", 40, 30, 500)\n",
        "print(f\"{mgr.name}'s salary: ${mgr.calculate_salary()}\")\n"
      ],
      "metadata": {
        "colab": {
          "base_uri": "https://localhost:8080/"
        },
        "id": "70RPWT254fvI",
        "outputId": "c37efa7f-d294-478c-8079-0f888a32a4f2"
      },
      "execution_count": 18,
      "outputs": [
        {
          "output_type": "stream",
          "name": "stdout",
          "text": [
            "rhea's salary: $800\n",
            "mummy's salary: $1700\n"
          ]
        }
      ]
    },
    {
      "cell_type": "code",
      "source": [
        "15. # Create a class Product with attributes name, price, and quantity. Implement a method total_price() that calculates the total price of the product.\n",
        "\n",
        "class Product:\n",
        "    def __init__(self, name, price, quantity):\n",
        "        self.name = name\n",
        "        self.price = price\n",
        "        self.quantity = quantity\n",
        "\n",
        "    def total_price(self):\n",
        "        return self.price * self.quantity\n",
        "\n",
        "# Example usage:\n",
        "product = Product(\"Laptop\", 800, 2)\n",
        "print(f\"Product: {product.name}\")\n",
        "print(f\"Total price: ${product.total_price()}\")"
      ],
      "metadata": {
        "colab": {
          "base_uri": "https://localhost:8080/"
        },
        "id": "VYCKVEO_4wfH",
        "outputId": "67e7f347-72e1-4c24-9e1e-b9a6c00717b3"
      },
      "execution_count": 19,
      "outputs": [
        {
          "output_type": "stream",
          "name": "stdout",
          "text": [
            "Product: Laptop\n",
            "Total price: $1600\n"
          ]
        }
      ]
    },
    {
      "cell_type": "code",
      "source": [
        "16. # Create a class Animal with an abstract method sound(). Create two derived classes Cow and Sheep that implement the sound() method.\n",
        "\n",
        "from abc import ABC, abstractmethod\n",
        "\n",
        "class Animal(ABC):\n",
        "    @abstractmethod\n",
        "    def sound(self):\n",
        "        pass\n",
        "\n",
        "class Cow(Animal):\n",
        "    def sound(self):\n",
        "        return \"Moo\"\n",
        "\n",
        "class Sheep(Animal):\n",
        "    def sound(self):\n",
        "        return \"Baa\"\n",
        "\n",
        "# Example usage:\n",
        "cow = Cow()\n",
        "sheep = Sheep()\n",
        "\n",
        "print(\"Cow sound:\", cow.sound())\n",
        "print(\"Sheep sound:\", sheep.sound())"
      ],
      "metadata": {
        "colab": {
          "base_uri": "https://localhost:8080/"
        },
        "id": "J3GsUuCl5Hr_",
        "outputId": "f9ba3b8e-2266-4b4e-ca00-7d569f0f7c23"
      },
      "execution_count": 22,
      "outputs": [
        {
          "output_type": "stream",
          "name": "stdout",
          "text": [
            "Cow sound: Moo\n",
            "Sheep sound: Baa\n"
          ]
        }
      ]
    },
    {
      "cell_type": "code",
      "source": [
        "17. # Create a class Book with attributes title, author, and year_published. Add a method get_book_info() that returns a formatted string with the book's details.\n",
        "\n",
        "\n",
        "class Book:\n",
        "    def __init__(self, title, author, year_published):\n",
        "        self.title = title\n",
        "        self.author = author\n",
        "        self.year_published = year_published\n",
        "\n",
        "    def get_book_info(self):\n",
        "        return f\"'{self.title}' by {self.author} (Published in {self.year_published})\"\n",
        "\n",
        "# Example usage:\n",
        "book = Book(\"1984\", \"George Orwell\", 1949)\n",
        "print(book.get_book_info())\n"
      ],
      "metadata": {
        "colab": {
          "base_uri": "https://localhost:8080/"
        },
        "id": "2NDNu4215dHD",
        "outputId": "93976478-e05f-4a76-9c11-6c9fb8865b86"
      },
      "execution_count": 23,
      "outputs": [
        {
          "output_type": "stream",
          "name": "stdout",
          "text": [
            "'1984' by George Orwell (Published in 1949)\n"
          ]
        }
      ]
    },
    {
      "cell_type": "code",
      "source": [
        "18. # Create a class House with attributes address and price. Create a derived class Mansion that adds an attribute number_of_rooms.\n",
        "\n",
        "class House:\n",
        "    def __init__(self, address, price):\n",
        "        self.address = address\n",
        "        self.price = price\n",
        "\n",
        "    def get_info(self):\n",
        "        return f\"House located at {self.address}, priced at ${self.price}\"\n",
        "\n",
        "class Mansion(House):\n",
        "    def __init__(self, address, price, number_of_rooms):\n",
        "        super().__init__(address, price)\n",
        "        self.number_of_rooms = number_of_rooms\n",
        "\n",
        "    def get_info(self):\n",
        "        return f\"Mansion located at {self.address}, priced at ${self.price}, with {self.number_of_rooms} rooms\"\n",
        "\n",
        "# Example usage:\n",
        "mansion = Mansion(\"456 hilly port himachal\", 5000000, 10)\n",
        "print(mansion.get_info())\n"
      ],
      "metadata": {
        "colab": {
          "base_uri": "https://localhost:8080/"
        },
        "id": "D72CQFlA50cy",
        "outputId": "e9fcdea6-a570-415e-e681-26e0996b308e"
      },
      "execution_count": 26,
      "outputs": [
        {
          "output_type": "stream",
          "name": "stdout",
          "text": [
            "Mansion located at 456 hilly port himachal, priced at $5000000, with 10 rooms\n"
          ]
        }
      ]
    },
    {
      "cell_type": "code",
      "source": [],
      "metadata": {
        "id": "sCL2CruC6D_-"
      },
      "execution_count": null,
      "outputs": []
    }
  ]
}