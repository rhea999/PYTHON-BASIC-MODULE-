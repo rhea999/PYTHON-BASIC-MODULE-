{
  "cells": [
    {
      "cell_type": "code",
      "execution_count": null,
      "metadata": {
        "colab": {
          "base_uri": "https://localhost:8080/"
        },
        "id": "5Fm5hR3x9MFN",
        "outputId": "a3f36411-c8c0-4895-abb5-6c433c56ec81"
      },
      "outputs": [
        {
          "output_type": "stream",
          "name": "stdout",
          "text": [
            "the sum of even numbers is:30\n"
          ]
        }
      ],
      "source": [
        "#1. Write a Python function that takes a list of numbers as input and returns the sum of all even numbers in the list.\n",
        "def sum_even_number(number_list):\n",
        "  total_even_sum =0\n",
        "  for num in number_list: # HERE FOR IS ANALYSE THE LIST HOW MANY NUMBER ARE THERE.\n",
        "    if num % 2 == 0:# HERE IF IS FINDING THE EVEN NUMBERS IN THE LIST\n",
        "      total_even_sum += num\n",
        "  return total_even_sum\n",
        "numbers =[1,2,3,4,5,6,7,8,9,10]\n",
        "even_sum_result = sum_even_number(numbers)\n",
        "print(f\"the sum of even numbers is:{even_sum_result}\")\n"
      ]
    },
    {
      "cell_type": "code",
      "execution_count": null,
      "metadata": {
        "colab": {
          "base_uri": "https://localhost:8080/",
          "height": 36
        },
        "id": "dIGut4QLgIux",
        "outputId": "d5c5a49c-f3e6-4f93-f565-aa52d957c3ce"
      },
      "outputs": [
        {
          "output_type": "execute_result",
          "data": {
            "text/plain": [
              "'olleh'"
            ],
            "application/vnd.google.colaboratory.intrinsic+json": {
              "type": "string"
            }
          },
          "metadata": {},
          "execution_count": 47
        }
      ],
      "source": [
        "# 2.Create a Python function that accepts a string and returns the reverse of that string.\n",
        "def reverse_string(s):\n",
        "  return s[::-1]\n",
        "reverse_string(\"hello\")\n"
      ]
    },
    {
      "cell_type": "code",
      "execution_count": null,
      "metadata": {
        "colab": {
          "base_uri": "https://localhost:8080/"
        },
        "id": "lalC5Q4Kh-ks",
        "outputId": "a694aa91-9cdc-4050-99c2-d70057c8f6d1"
      },
      "outputs": [
        {
          "output_type": "execute_result",
          "data": {
            "text/plain": [
              "[1, 25, 36, 9, 64, 81, 100, 121, 1600, 250000]"
            ]
          },
          "metadata": {},
          "execution_count": 48
        }
      ],
      "source": [
        "# 3. Implement a Python function that takes a list of integers and returns a new list containing the squares of each number.\n",
        "def squ_number(numbers):\n",
        "  return[number* number for number in numbers]\n",
        "squ_number([1,5,6,3,8,9,10,11,40,500])"
      ]
    },
    {
      "cell_type": "code",
      "execution_count": null,
      "metadata": {
        "colab": {
          "base_uri": "https://localhost:8080/"
        },
        "id": "edEN-04TkmCt",
        "outputId": "ddb3a2ee-517e-4531-f948-46bc04bb3efc"
      },
      "outputs": [
        {
          "output_type": "execute_result",
          "data": {
            "text/plain": [
              "[0, 1, 4, 9, 16, 25, 36, 49, 64, 81, 100]"
            ]
          },
          "metadata": {},
          "execution_count": 49
        }
      ],
      "source": [
        "# we can also get the ans in this way (reference 3.)\n",
        "def square_number(n):\n",
        "  result= []\n",
        "  for i in range(n):\n",
        "    result.append(i ** 2)\n",
        "  return result\n",
        "square_number(11)"
      ]
    },
    {
      "cell_type": "code",
      "execution_count": null,
      "metadata": {
        "colab": {
          "base_uri": "https://localhost:8080/"
        },
        "id": "B-DNjd_rpBs6",
        "outputId": "7a1cc069-0eb7-425a-bad6-21898f3a6973"
      },
      "outputs": [
        {
          "output_type": "stream",
          "name": "stdout",
          "text": [
            "2\n",
            "3\n",
            "5\n",
            "7\n",
            "11\n",
            "13\n",
            "17\n",
            "19\n",
            "23\n",
            "29\n",
            "31\n",
            "37\n",
            "41\n",
            "43\n",
            "47\n",
            "53\n",
            "59\n",
            "61\n",
            "67\n",
            "71\n",
            "73\n",
            "79\n",
            "83\n",
            "89\n",
            "97\n",
            "101\n",
            "103\n",
            "107\n",
            "109\n",
            "113\n",
            "127\n",
            "131\n",
            "137\n",
            "139\n",
            "149\n",
            "151\n",
            "157\n",
            "163\n",
            "167\n",
            "173\n",
            "179\n",
            "181\n",
            "191\n",
            "193\n",
            "197\n",
            "199\n"
          ]
        }
      ],
      "source": [
        "# 4. Write a Python function that checks if a given number is prime or not from 1 to 200\n",
        "def is_prime(n):\n",
        "  if n <2:\n",
        "    return False\n",
        "  for i in range (2,n):\n",
        "    if n%i ==0:\n",
        "      return False\n",
        "  return True\n",
        "for num in range(1,201):\n",
        "  if is_prime(num):\n",
        "    print (num)"
      ]
    },
    {
      "cell_type": "code",
      "source": [
        " # 5. Create an iterator class in Python that generates the Fibonacci sequence up to a specified number of terms\n",
        " class FibonacciIterator:\n",
        "    def __init__(self, max_terms):\n",
        "        self.max_terms = max_terms  # total terms to generate\n",
        "        self.count = 0              # tracks how many terms have been generated\n",
        "        self.a = 0                  # first Fibonacci number\n",
        "        self.b = 1                  # second Fibonacci number\n",
        "    def __iter__(self):\n",
        "        return self  # returns the iterator object itself\n",
        "\n",
        "    def __next__(self):\n",
        "        if self.count >= self.max_terms:\n",
        "            raise StopIteration  # signals the end of iteration\n",
        "\n",
        "        if self.count == 0:\n",
        "            self.count += 1\n",
        "            return self.a\n",
        "        elif self.count == 1:\n",
        "            self.count += 1\n",
        "            return self.b\n",
        "\n",
        "        # Generate next number in sequence\n",
        "        self.a, self.b = self.b, self.a + self.b\n",
        "        self.count += 1\n",
        "        return self.b\n",
        "\n",
        "fib = FibonacciIterator(20)\n",
        "for num in fib:\n",
        "    print(num, end=' ')\n"
      ],
      "metadata": {
        "id": "-JkmUeQ9GIUd",
        "colab": {
          "base_uri": "https://localhost:8080/"
        },
        "outputId": "0fc7a8cd-0f01-4137-db72-ae28dd5c3d9e"
      },
      "execution_count": 18,
      "outputs": [
        {
          "output_type": "stream",
          "name": "stdout",
          "text": [
            "0 1 1 2 3 5 8 13 21 34 55 89 144 233 377 610 987 1597 2584 4181 "
          ]
        }
      ]
    },
    {
      "cell_type": "code",
      "source": [
        "# 6. Write a generator function in Python that yields the powers of 2 up to a given exponent.\n",
        "def powers_of_two(exponent):\n",
        "  for i in range(exponent+1):\n",
        "    yield 2**i\n",
        "for power in powers_of_two(5):\n",
        "  print(power)"
      ],
      "metadata": {
        "colab": {
          "base_uri": "https://localhost:8080/"
        },
        "id": "dkzVP2dDIZbF",
        "outputId": "4e856b34-2a16-4e8b-efd9-2ce11503785f"
      },
      "execution_count": null,
      "outputs": [
        {
          "output_type": "stream",
          "name": "stdout",
          "text": [
            "1\n",
            "2\n",
            "4\n",
            "8\n",
            "16\n",
            "32\n"
          ]
        }
      ]
    },
    {
      "cell_type": "code",
      "source": [
        "# 7.  Implement a generator function that reads a file line by line and yields each line as a string.\n",
        "import os\n",
        "\n",
        "# Check if 'example.txt' exists. If not, create a dummy file.\n",
        "if not os.path.exists('example.txt'):\n",
        "    with open('example.txt', 'w') as f:\n",
        "        f.write(\"This is line 1\\n\")\n",
        "        f.write(\"This is line 2\\n\")\n",
        "        f.write(\"This is line 3\\n\")\n",
        "\n",
        "def read_file_line_by_line(filepath):\n",
        "    \"\"\"Generator that reads a file line by line.\"\"\"\n",
        "    with open(filepath, 'r') as file:\n",
        "        for line in file:\n",
        "            yield line.rstrip('\\n')  # Strip the newline character, if desired\n",
        "\n",
        "for line in read_file_line_by_line('example.txt'):\n",
        "    print(line)\n"
      ],
      "metadata": {
        "colab": {
          "base_uri": "https://localhost:8080/"
        },
        "id": "Felv3xsbInqE",
        "outputId": "35d2e237-4781-4e6b-8624-d784d7a67022"
      },
      "execution_count": null,
      "outputs": [
        {
          "output_type": "stream",
          "name": "stdout",
          "text": [
            "This is line 1\n",
            "This is line 2\n",
            "This is line 3\n"
          ]
        }
      ]
    },
    {
      "cell_type": "code",
      "source": [
        "# 8. Use a lambda function in Python to sort a list of tuples based on the second element of each tuple.\n",
        "# sample list of tuple\n",
        "list1 = [(1,2),(2,3),(3,4),(4,5),(5,6),(8,7),(12,16)]\n",
        "# sort the second element of each tuple\n",
        "sorted_data =sorted(list1,key = lambda x:x[1])\n",
        "print(sorted_data)"
      ],
      "metadata": {
        "colab": {
          "base_uri": "https://localhost:8080/"
        },
        "id": "9XPIMevmM1F5",
        "outputId": "6943e612-4416-4c00-99f9-ba4a47a284b9"
      },
      "execution_count": null,
      "outputs": [
        {
          "output_type": "stream",
          "name": "stdout",
          "text": [
            "[(1, 2), (2, 3), (3, 4), (4, 5), (5, 6), (8, 7), (12, 16)]\n"
          ]
        }
      ]
    },
    {
      "cell_type": "code",
      "source": [
        "# 9.  Write a Python program that uses `map()` to convert a list of temperatures from Celsius to Fahrenheit.\n",
        "\n",
        "# List of temperatures in Celsius\n",
        "celsius_temps = [0, 20, 30, 37, 100]\n",
        "\n",
        "# Convert to Fahrenheit using map and a lambda function\n",
        "fahrenheit_temps = list(map(lambda c: (c * 9/5) + 32, celsius_temps))\n",
        "\n",
        "# Output the result\n",
        "print(\"Celsius:\", celsius_temps)\n",
        "print(\"Fahrenheit:\", fahrenheit_temps)"
      ],
      "metadata": {
        "colab": {
          "base_uri": "https://localhost:8080/"
        },
        "id": "HCIMHgh0Otly",
        "outputId": "a87b7549-95bd-4a90-feca-791dfd25d523"
      },
      "execution_count": null,
      "outputs": [
        {
          "output_type": "stream",
          "name": "stdout",
          "text": [
            "Celsius: [0, 20, 30, 37, 100]\n",
            "Fahrenheit: [32.0, 68.0, 86.0, 98.6, 212.0]\n"
          ]
        }
      ]
    },
    {
      "cell_type": "code",
      "source": [
        "# 10.  Create a Python program that uses `filter()` to remove all the vowels from a given string.\n",
        "# Input string\n",
        "input_str = \"Hello, this is a sample string.\"\n",
        "\n",
        "# Define vowels\n",
        "vowels = \"aeiouAEIOU\"\n",
        "\n",
        "# Use filter() to remove vowels\n",
        "no_vowels = ''.join(filter(lambda char: char not in vowels, input_str))\n",
        "\n",
        "# Output the result\n",
        "print(\"Original string:\", input_str)\n",
        "print(\"String without vowels:\", no_vowels)\n"
      ],
      "metadata": {
        "colab": {
          "base_uri": "https://localhost:8080/"
        },
        "id": "psxqv2vmPDx_",
        "outputId": "9ce94aed-e4e7-4470-c4c1-eba04c1d20b2"
      },
      "execution_count": null,
      "outputs": [
        {
          "output_type": "stream",
          "name": "stdout",
          "text": [
            "Original string: Hello, this is a sample string.\n",
            "String without vowels: Hll, ths s  smpl strng.\n"
          ]
        }
      ]
    },
    {
      "cell_type": "code",
      "source": [
        "# 11  Imagine an accounting routine used in a book shop. It works on a list with sublists, which look like this:\n",
        "\n",
        "#[order_number, item_name, quantity, price_per_item]\n",
        "orders = [\n",
        "    [34587, \"Learning python,mark lutz\", 4, 40.95],\n",
        "    [98762, \"Programming python,mark lutz\", 5, 56.80],\n",
        "    [77226, \"Head First Python, paul barry \", 3, 32.95],\n",
        "    [88112, \"Einfuhrung in python3, Bernd Klein\", 3, 24.99]\n",
        "]\n",
        "result = list(map(lambda x:(x[0],x[2]*x[3]+ 10) if( x[2]*x[3])<10000 else(x[0],x[2]*x[3]),orders))\n",
        "print(result)\n",
        "print(result[:2])"
      ],
      "metadata": {
        "id": "oC76I7OndvVQ",
        "colab": {
          "base_uri": "https://localhost:8080/"
        },
        "outputId": "c842ef0b-7e0c-4b00-bc46-c3da7401d171"
      },
      "execution_count": null,
      "outputs": [
        {
          "output_type": "stream",
          "name": "stdout",
          "text": [
            "[(34587, 173.8), (98762, 294.0), (77226, 108.85000000000001), (88112, 84.97)]\n",
            "[(34587, 173.8), (98762, 294.0)]\n"
          ]
        }
      ]
    },
    {
      "cell_type": "code",
      "source": [
        "print(\"Theory questions\")"
      ],
      "metadata": {
        "id": "H7nU0MPqlD86",
        "colab": {
          "base_uri": "https://localhost:8080/"
        },
        "outputId": "568514a9-ec13-456d-9365-fbdb0d8248a0"
      },
      "execution_count": null,
      "outputs": [
        {
          "output_type": "stream",
          "name": "stdout",
          "text": [
            "Theory questions\n"
          ]
        }
      ]
    },
    {
      "cell_type": "markdown",
      "source": [
        "# 1. What is the difference between a function and a method in Python?\n",
        "function: function is a block of code that is independent and can be called by\n",
        "\n",
        "1. function is a block of code that is independent and can be called by its name.\n",
        "2. it is not tied to any object\n",
        "3. defined using the def keyword\n",
        "4. example: def greet(name)\n",
        "                return f\"hello ,{name}!\"\n",
        "                # to call greet\n",
        "                greet(\"rhea\")\n",
        "method :\n",
        "1. method is a function that is associated with a object\n",
        "2. Defined inside a class, and typically operates on data belonging to that object.\n",
        "3. The first parameter is usually self, which refers to the instance calling the method.\n",
        "4. example: #class Person:\n",
        "    #def greet(self, name):\n",
        "       # return f\"Hello, {name}!\"\n",
        "    p = Person()\n",
        "    p.greet(\"rhea\")\n",
        "  \n"
      ],
      "metadata": {
        "id": "fL-HjNLqK2iZ"
      }
    },
    {
      "cell_type": "markdown",
      "source": [
        "# 2.  Explain the concept of function arguments and parameters in Python.\n",
        "\n",
        "1. Parameters\n",
        " a. Parameters are placeholders for the values a function expects to receive.\n",
        "\n",
        "b. They are defined in the function definition.\n",
        "\n",
        "c example:\n",
        "\n",
        "    def greet(name):  # 'name' is a parameter\n",
        "    print(f\"Hello, {name}!\")\n",
        "\n",
        "2. Arguments\n",
        "a. Arguments are the actual values you pass to a function when you call it.\n",
        "\n",
        "b. They replace the parameters at runtime.\n",
        "\n",
        "c. example:\n",
        "\n",
        "    greet(\"Alice\")  # \"Alice\" is an argument\n",
        "# Types of Function Arguments in Python\n",
        "\n",
        "1. Positional Arguments\n",
        "2. Keyword Arguments\n",
        "3. Default Arguments\n",
        "4. Variable-length Arguments"
      ],
      "metadata": {
        "id": "0NeeHHwLa5GY"
      }
    },
    {
      "cell_type": "markdown",
      "source": [
        "# 3. What are the different ways to define and call a function in Python?\n",
        "\n",
        "1. Defining a Function\n",
        "\n",
        "a. Standard Function (Using def)\n",
        "\n",
        "    def greet(name):\n",
        "    print(f\"Hello, {name}!\")\n",
        "\n",
        "b. Function with Default Arguments\n",
        "\n",
        "    def greet(name=\"baby\"):\n",
        "    print(f\"Hello, {name}!\")\n",
        "\n",
        "c. Lambda Function (Anonymous Function)\n",
        "\n",
        "    square = lambda x: x * x\n",
        "\n",
        "d.  Function Inside a Class (Method)(Fibonacci)\n",
        "\n",
        "    class Person:\n",
        "    def greet(self, name):\n",
        "        print(f\"Hello, {name}!\")\n",
        "\n",
        "\n",
        "2. Calling a Function\n",
        "\n",
        "a. Positional Arguments\n",
        "\n",
        "    greet(\"Rhea\")\n",
        "\n",
        "b. Using Default Value\n",
        "\n",
        "    greet()  # Uses default \"baby\"\n",
        "\n",
        "c. Calling a Lambda Function\n",
        "\n",
        "    print(square(5))  # Outputs 25\n",
        "\n",
        "d. Calling a Method\n",
        "\n",
        "    p = Person()\n",
        "    p.greet(\"shashi\")\n",
        "\n",
        "\n",
        "\n",
        "\n"
      ],
      "metadata": {
        "id": "sl_tiLQacUaf"
      }
    },
    {
      "cell_type": "markdown",
      "source": [
        "# 4.  What is the purpose of the `return` statement in a Python function?\n",
        "\n",
        "1. Sending a Result Back to the Caller\n",
        "It allows the function to output a value back to the place where it was called.\n",
        "\n",
        "example:\n",
        "\n",
        "    def add(a, b):\n",
        "       return a + b\n",
        "    result = add(3, 5)\n",
        "    print(result)  # Output: 8\n",
        "\n",
        "2. Ending Function Execution\n",
        "It immediately terminates the function, even if there are more lines of code after it.\n",
        "\n",
        "example:\n",
        "\n",
        "     def check_number(n):\n",
        "        if n > 0:\n",
        "      return \"Positive\"\n",
        "    return \"Not positive\"\n",
        "\n",
        "    print(check_number(10))  # Output: \"Positive\"\n",
        "\n",
        "3. Returning Multiple Values\n",
        "Python functions can return multiple values as a tuple.\n",
        "\n",
        "Example:\n",
        "\n",
        "    def get_user():\n",
        "      name = \"Alice\"\n",
        "      age = 30\n",
        "    return name, age\n",
        "\n",
        "    user_name, user_age = get_user()\n",
        "\n",
        "4. Returning None (by default)\n",
        "If no return is specified, Python implicitly returns None.\n",
        "\n",
        "Example:\n",
        "\n",
        "    def say_hello():\n",
        "      print(\"Hello!\")\n",
        "\n",
        "    result = say_hello()\n",
        "    print(result)  # Output: None\n",
        "\n",
        "\n",
        "\n",
        "\n",
        "\n"
      ],
      "metadata": {
        "id": "V5Bi48HneMzB"
      }
    },
    {
      "cell_type": "markdown",
      "source": [
        "# 5.  What are iterators in Python and how do they differ from iterables?\n",
        "\n",
        "1. Iterable: Can be looped over; gives you an iterator using iter().\n",
        "\n",
        "2. Iterator: Produces items one at a time; used by next() and exhausted after use.\n",
        "\n",
        "example iterables:\n",
        "\n",
        "    my_list = [1, 2, 3]\n",
        "    for item in my_list:  # my_list is iterable\n",
        "    print(item)\n",
        "\n",
        "example iterators:\n",
        "\n",
        "    my_list = [1, 2, 3]\n",
        "    iterator = iter(my_list)  # Create an iterator from an iterable\n",
        "\n",
        "    print(next(iterator))  # Output: 1\n",
        "    print(next(iterator))  # Output: 2\n",
        "    print(next(iterator))  # Output: 3\n",
        "    # next(iterator) would raise StopIteration\n",
        "\n"
      ],
      "metadata": {
        "id": "yAGn0wAZfcSl"
      }
    },
    {
      "cell_type": "markdown",
      "source": [
        "# 6.  Explain the concept of generators in Python and how they are defined.\n",
        "\n",
        "A generator is a special type of function that:\n",
        "\n",
        "1. Uses the **yield** keyword instead of return\n",
        "\n",
        "2. Automatically remembers its state between calls\n",
        "\n",
        "3. Produces a lazy sequence of values (one at a time).\n",
        "\n",
        "example:\n",
        "\n",
        "      def count_up_to(n):\n",
        "    count = 1\n",
        "    while count <= n:\n",
        "        yield count\n",
        "        count += 1\n",
        "    gen = count_up_to(3)\n",
        "    print(next(gen))  # 1\n",
        "    print(next(gen))  # 2\n",
        "    print(next(gen))  # 3\n",
        "    # next(gen) now raises StopIteration\n",
        "\n",
        "\n",
        "\n",
        "\n"
      ],
      "metadata": {
        "id": "maXbzl8jgW5R"
      }
    },
    {
      "cell_type": "markdown",
      "source": [
        "# 7. What are the advantages of using generators over regular functions?\n",
        "\n",
        "1. Memory Efficiency:\n",
        "Generators don’t store all values in memory. They yield items one at a time, on demand.\n",
        "2. Lazy Evaluation\n",
        "Generators evaluate items only when needed, which means:\n",
        "\n",
        "a. Faster startup time\n",
        "\n",
        "b. Ideal for large or infinite sequences\n",
        "\n",
        "example:\n",
        "\n",
        "    gen = (x * 2 for x in range(1_000_000))  # Won’t compute anything until you use next(gen)\n",
        "\n",
        "\n",
        "3. Simplified Code for Iterators:\n",
        "Generators replace verbose iterator classes with simple, readable functions using yield."
      ],
      "metadata": {
        "id": "IGF3jd8xhFVJ"
      }
    },
    {
      "cell_type": "markdown",
      "source": [
        "# 8. What is a lambda function in Python and when is it typically used?\n",
        "\n",
        "A lambda function in Python is a small, anonymous (unnamed) function defined using the lambda keyword.\n",
        "\n",
        "Syntax of a Lambda Function:\n",
        "\n",
        "    lambda arguments: expression\n",
        "example:\n",
        "\n",
        "    square = lambda x: x * x\n",
        "    print(square(5))  # Output: 25\n",
        "\n",
        "use cases of lambda function:\n",
        "\n",
        "1. With map()\n",
        "\n",
        "\n",
        "    nums = [1, 2, 3]\n",
        "    squares = list(map(lambda x: x ** 2, nums))\n",
        "\n",
        "2. With filter()\n",
        "\n",
        "\n",
        "    nums = [1, 2, 3, 4]\n",
        "    evens = list(filter(lambda x: x % 2 == 0, nums))\n",
        "\n",
        "3. With sorted()\n",
        "\n",
        "\n",
        "      names = [\"Rhea\", \"Papa\", \"Priya\",\"Mummy\"]\n",
        "      sorted_names = sorted(names, key=lambda x: len(x))  # Sort by length\n",
        "\n",
        "When Not to Use Lambda\n",
        "1. When the function is complex or reused multiple times — use def instead.\n",
        "\n",
        "2. For multiline logic — lambdas only support single expressions.\n",
        "\n",
        "\n",
        "\n",
        "\n"
      ],
      "metadata": {
        "id": "o_vaaq3jiCe7"
      }
    },
    {
      "cell_type": "markdown",
      "source": [
        "# 9.  Explain the purpose and usage of the `map()` function in Python.\n",
        "\n",
        "The map() function in Python is used to apply a function to each item in an iterable (like a list, tuple, etc.) and return a new iterator with the results.\n",
        "\n",
        "Purpose of map()\n",
        "1. To transform data by applying a function to every item in a sequence.\n",
        "\n",
        "2. It’s a key tool in functional programming and data processing.\n",
        "\n",
        "# syntax\n",
        "\n",
        "      map(function, iterable)\n",
        "\n",
        "example: sq each number in a list\n",
        "\n",
        "      nums = [1, 8, 3, 7]\n",
        "      squared = map(lambda x: x ** 2, nums)\n",
        "\n",
        "    print(list(squared))  # Output: [1, 64, 9, 49 ]\n",
        "\n",
        "Using map() with Multiple Iterables:\n",
        "If the function takes multiple arguments, you can pass multiple iterables:\n",
        "\n",
        "      a = [1, 2, 3]\n",
        "      b = [4, 5, 6]\n",
        "\n",
        "    result = map(lambda x, y: x + y, a, b)\n",
        "    print(list(result))  # Output: [5, 7, 9]\n",
        "\n",
        "\n",
        "\n"
      ],
      "metadata": {
        "id": "9PoDgzH1jfGb"
      }
    },
    {
      "cell_type": "markdown",
      "source": [
        "# 10. What is the difference between `map()`, `reduce()`, and `filter()` functions in Python?\n",
        "\n",
        "The functions map(), reduce(), and filter() in Python are core tools in functional programming, used to process data in sequences like lists or tuples. They each have a different purpose:\n",
        "\n",
        "1. map() — Transform Data\n",
        "Applies a function to each item in an iterable and returns a new iterator with the transformed results.\n",
        "\n",
        "Use When:\n",
        "You want to apply a function to all elements.\n",
        "\n",
        "example:\n",
        "\n",
        "      nums = [1, 2, 3]\n",
        "      squared = list(map(lambda x: x ** 2, nums))\n",
        "      # Output: [1, 4, 9]\n",
        "\n",
        "\n",
        "2. filter() — Select Data\n",
        "Applies a function that returns True or False to each item and filters out the ones that don’t match the condition.\n",
        "\n",
        "Use When:\n",
        "You want to keep only items that satisfy a condition.\n",
        "\n",
        "Example:\n",
        "\n",
        "        nums = [1, 2, 3, 4, 5]\n",
        "        evens = list(filter(lambda x: x % 2 == 0, nums))\n",
        "      # Output: [2, 4]\n",
        "\n",
        "\n",
        "3. reduce() — Aggregate Data\n",
        "Applies a function to pairs of items, cumulatively reducing the iterable to a single value.\n",
        "\n",
        " Use When:\n",
        "You want to combine all items into one result (e.g., sum, product, max).\n",
        "\n",
        "EXAMPLE:\n",
        "\n",
        "        from functools import reduce\n",
        "\n",
        "      nums = [1, 2, 3, 4]\n",
        "      total = reduce(lambda x, y: x + y, nums)\n",
        "      # Output: 10\n",
        "\n",
        "\n",
        "\n"
      ],
      "metadata": {
        "id": "L26DsTjQoctY"
      }
    },
    {
      "cell_type": "markdown",
      "source": [
        "# 11. Using pen & Paper write the internal mechanism for sum operation using  reduce function on this given\n",
        "list:[47,11,42,13];\n",
        "\n",
        "![WhatsApp Image 2025-05-21 at 22.01.26_0ba311b3.jpg](data:image/jpeg;base64,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)"
      ],
      "metadata": {
        "id": "ywmk1QXzpfSY"
      }
    }
  ],
  "metadata": {
    "colab": {
      "provenance": []
    },
    "kernelspec": {
      "display_name": "Python 3",
      "name": "python3"
    },
    "language_info": {
      "name": "python"
    }
  },
  "nbformat": 4,
  "nbformat_minor": 0
}