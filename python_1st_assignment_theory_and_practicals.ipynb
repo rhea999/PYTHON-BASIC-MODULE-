{
  "cells": [
    {
      "cell_type": "markdown",
      "metadata": {
        "id": "IKwgcwrwzQls"
      },
      "source": [
        "Q-1 what is python and why it is popular?\n",
        "\n",
        "A-1 python is a programming language use to intract with computer system.\n",
        "it is popular because its versitile (large community support, scalibility, free open sources), simplicity (simple to understand), good ecosystem of its own library.\n"
      ]
    },
    {
      "cell_type": "markdown",
      "metadata": {
        "id": "EO4xz8I461pG"
      },
      "source": [
        "Q-2 What is an interpreter in Python?\n",
        "\n",
        "A-2 interpreater is a programe which reads and execute each code line by line."
      ]
    },
    {
      "cell_type": "markdown",
      "metadata": {
        "id": "QwdCmshJ8eDn"
      },
      "source": [
        "Q-3 what are pre- defined keywords in python?\n",
        "\n",
        "A-3 keywords:-\n",
        "\n",
        "*   none\n",
        "*   true\n",
        "\n",
        "*   false\n",
        "*   as\n",
        "\n",
        "*   and\n",
        "*   break\n",
        "\n",
        "*   continue\n",
        "*   else\n",
        "\n",
        "\n",
        "These keywords cannot used as identifier, functions or variable names.\n",
        "\n",
        "These keywords are used to define the syntax of the coding.\n",
        "\n"
      ]
    },
    {
      "cell_type": "markdown",
      "metadata": {
        "id": "9GFvmXR9-rpr"
      },
      "source": [
        "Q-4 Can keywords be used as variable names?\n",
        "\n",
        "No, keywords cannot be used as variable name"
      ]
    },
    {
      "cell_type": "markdown",
      "metadata": {
        "id": "-MXjmwY6_Lfq"
      },
      "source": [
        "Q-5 What is mutability in Python?\n",
        "\n",
        "A-5 Mutability refer to the ability to be modified after it created. if object is mutable, valuse can be changed without creating another new object."
      ]
    },
    {
      "cell_type": "markdown",
      "metadata": {
        "id": "g3BGNZhGAFrp"
      },
      "source": [
        "Q-6 Why are lists mutable, but tuples are immutable?\n",
        "\n",
        "A-6 list are mutable because they have been created in such way so that modification can take place at any time after creation of code, list have flexibility in data but tuples are immutable because it can't be modified after being created. This immutability is important where user wants to fix the data or it cannot make any changes. Tuples have intergrity in data."
      ]
    },
    {
      "cell_type": "markdown",
      "metadata": {
        "id": "ZbH_zXmRBvwf"
      },
      "source": [
        "Q-7 What is the difference between “==” and “is” operators in Python?\n",
        "\n",
        "A-7 The \"==\" is known as equality operator.\"==\" operator help us to compare both data similar or not. The 'is' operator is identity operator.'is' operator help to check both the data is same or not.\n"
      ]
    },
    {
      "cell_type": "markdown",
      "metadata": {
        "id": "DuGj2CjIDlj2"
      },
      "source": [
        "Q-8 What are logical operators in Python?\n",
        "\n",
        "A-8 Logical operator in python are used to combine/modify bollean values (true or false)\n",
        "\n",
        "\n",
        "*   And\n",
        "*   OR\n",
        "\n",
        "*   Not\n",
        "\n",
        "\n",
        "\n"
      ]
    },
    {
      "cell_type": "markdown",
      "metadata": {
        "id": "UhToGIrpVEV8"
      },
      "source": [
        "Q-9  What is type casting in Python?\n",
        "\n",
        "A-9 Type casting or type conversion is a process of changing a variable data into another type\n",
        "\n",
        "ex:- integer into float"
      ]
    },
    {
      "cell_type": "markdown",
      "metadata": {
        "id": "W4t1WbgTWMyY"
      },
      "source": [
        "Q-10 What is the difference between implicit and explicit type casting?\n",
        "\n",
        "A-10 Implicit type casting happen automatically by the compiler where as explicit type casting require programmer to define the conversion using particular syntax.\n"
      ]
    },
    {
      "cell_type": "markdown",
      "metadata": {
        "id": "kzY82vuTaNOp"
      },
      "source": [
        "Q-11  What is the purpose of conditional statements in Python?\n",
        "\n",
        "A-11 Conditional statement define the flow of code execution and its direction based on certain conditions.\n",
        "\n",
        "\n",
        "*   if condition statement\n",
        "\n",
        "*   if-else statement\n",
        "*   if-elif-else statement\n",
        "\n",
        "\n",
        "*   nested if conditional statement\n",
        "\n"
      ]
    },
    {
      "cell_type": "markdown",
      "metadata": {
        "id": "MHvxzwOrboMH"
      },
      "source": [
        "Q-12 How does the elif statement work?\n",
        "\n",
        "A-12 The elif statement acts as conditional check that comes after if statement. it help to evaluate additional conditions if the initial if statement condition id false.if any of the elif is true, the code block is executed, and no further else or elif are evaluated."
      ]
    },
    {
      "cell_type": "markdown",
      "metadata": {
        "id": "7scF5Phh3dMn"
      },
      "source": [
        "Q-13  What is the difference between for and while loops?\n",
        "\n",
        "A-13 For loop is used to repeat over a sequence of items. While loop is used to repeatedly execute a block of statements while a condition is true"
      ]
    },
    {
      "cell_type": "markdown",
      "metadata": {
        "id": "bvnrMGuv6v5d"
      },
      "source": [
        "Q-14 Describe a scenario where a while loop is more suitable than a for loop.\n",
        "\n",
        "A-14 while loop is more suitable when there are multiple iltration and count is not known.\n",
        "\n",
        "example\n",
        "\n",
        "iltration_count = 0:\n",
        "\n",
        "condition_met = False # this will continue until the condition met\n",
        "\n",
        "iltration_conunt += 1"
      ]
    },
    {
      "cell_type": "code",
      "execution_count": null,
      "metadata": {
        "colab": {
          "base_uri": "https://localhost:8080/"
        },
        "id": "r050h-t_zDPh",
        "outputId": "0a507dcc-34c2-45a8-eee0-8cbad7f865e9"
      },
      "outputs": [
        {
          "name": "stdout",
          "output_type": "stream",
          "text": [
            "practical questions \n"
          ]
        }
      ],
      "source": [
        "print (\"practical questions \")\n"
      ]
    },
    {
      "cell_type": "code",
      "execution_count": null,
      "metadata": {
        "colab": {
          "base_uri": "https://localhost:8080/"
        },
        "id": "N9xjATtazjCL",
        "outputId": "8fd7e435-2e0d-48a8-c90e-36799aaa2c1c"
      },
      "outputs": [
        {
          "name": "stdout",
          "output_type": "stream",
          "text": [
            "Hello, World\n"
          ]
        }
      ],
      "source": [
        "# 1. Write a Python program to print \"Hello, World!\"\n",
        "print (\"Hello, World\")"
      ]
    },
    {
      "cell_type": "markdown",
      "metadata": {
        "id": "u2BwmiJlzOCY"
      },
      "source": [
        "# 2. Write a Python program that displays your name and age\n",
        "Name = (\"Rhea Sharma\")\n",
        "Age = (\"25\")"
      ]
    },
    {
      "cell_type": "code",
      "execution_count": null,
      "metadata": {
        "colab": {
          "base_uri": "https://localhost:8080/"
        },
        "id": "0pf6vBuN0KfE",
        "outputId": "ce376208-6993-4150-f8e3-c8758dd5df54"
      },
      "outputs": [
        {
          "name": "stdout",
          "output_type": "stream",
          "text": [
            "['False', 'None', 'True', 'and', 'as', 'assert', 'async', 'await', 'break', 'class', 'continue', 'def', 'del', 'elif', 'else', 'except', 'finally', 'for', 'from', 'global', 'if', 'import', 'in', 'is', 'lambda', 'nonlocal', 'not', 'or', 'pass', 'raise', 'return', 'try', 'while', 'with', 'yield']\n"
          ]
        }
      ],
      "source": [
        "# 3. Write code to print all the pre-defined keywords in Python using the keyword library\n",
        "import keyword\n",
        "print(keyword.kwlist)"
      ]
    },
    {
      "cell_type": "code",
      "execution_count": null,
      "metadata": {
        "colab": {
          "base_uri": "https://localhost:8080/"
        },
        "id": "iDCGa3Vx2Frd",
        "outputId": "98835a35-1d45-4ea1-8092-642e5a276cb2"
      },
      "outputs": [
        {
          "name": "stdout",
          "output_type": "stream",
          "text": [
            "enter a wordimport\n",
            "its a keyword\n"
          ]
        }
      ],
      "source": [
        "#4.  Write a program that checks if a given word is a Python keyword.\n",
        "import keyword\n",
        "word = input(\"enter a word\")\n",
        "if keyword.iskeyword(word):\n",
        "  print (\"its a keyword\")\n",
        "else:\n",
        "    print (\"its's not a keyword\")"
      ]
    },
    {
      "cell_type": "code",
      "execution_count": null,
      "metadata": {
        "colab": {
          "base_uri": "https://localhost:8080/"
        },
        "id": "lgQbPlsLY8fo",
        "outputId": "c97a3cc5-7baf-4c73-8ed9-7f7b9ae09e26"
      },
      "outputs": [
        {
          "name": "stdout",
          "output_type": "stream",
          "text": [
            "('Mango', 'banana', 'apple')\n",
            "['ripe chikoo', 'banana', 'apple']\n"
          ]
        }
      ],
      "source": [
        "# 5. Create a list and tuple in Python, and demonstrate how attempting to change an element works differently for each.\n",
        "list = [\"mango\",\"banana\",\"apple\"]\n",
        "list\n",
        "tuple = (\"Mango\",\"banana\",\"apple\")\n",
        "print(tuple) # tuple are ordered and immutable. so its not possible to change tuple\n",
        "list[list.index(\"mango\")] = \"ripe chikoo\"\n",
        "print(list)"
      ]
    },
    {
      "cell_type": "code",
      "execution_count": null,
      "metadata": {
        "colab": {
          "base_uri": "https://localhost:8080/"
        },
        "id": "C-wvGAts77d4",
        "outputId": "14c1d204-af8b-48cb-96a8-57b0befeb6ea"
      },
      "outputs": [
        {
          "name": "stdout",
          "output_type": "stream",
          "text": [
            "['ripe chikoo', 'banana', 'apple']\n"
          ]
        }
      ],
      "source": [
        "# Here in the list mango is changed with ripe chikoo\n",
        "list = [\"mango\",\"banana\",\"apple\"]\n",
        "list\n",
        "list[list.index(\"mango\")] = \"ripe chikoo\"\n",
        "print(list)"
      ]
    },
    {
      "cell_type": "code",
      "execution_count": null,
      "metadata": {
        "colab": {
          "base_uri": "https://localhost:8080/"
        },
        "id": "ApW4NSRuE_A0",
        "outputId": "7bf07c5c-f124-45b8-c08b-0498fb9b17f3"
      },
      "outputs": [
        {
          "name": "stdout",
          "output_type": "stream",
          "text": [
            "['red', 'yellow', 'purple', 'black']\n"
          ]
        }
      ],
      "source": [
        "# 6. Write a function to demonstrate the behavior of mutable and immutable arguments.\n",
        "list_1 =[\"red\",\"yellow\",\"purple\",\"grey\"]\n",
        "list_1 # since list is mutable we can make changes in list_1\n",
        "list_1[list_1.index(\"grey\")] =\"black\"\n",
        "print (list_1)"
      ]
    },
    {
      "cell_type": "code",
      "execution_count": null,
      "metadata": {
        "colab": {
          "base_uri": "https://localhost:8080/"
        },
        "id": "uzYyZgAEHHXf",
        "outputId": "c0437a11-3e57-43b0-ce16-18e9692df94f"
      },
      "outputs": [
        {
          "name": "stdout",
          "output_type": "stream",
          "text": [
            "('school name:- Swami vivekanand school', 'pan card no.:- input(type your pan card no. here)', 'phone_number:- input(type )')\n"
          ]
        }
      ],
      "source": [
        "# example of immutable\n",
        "tuple = (\"school name:- Swami vivekanand school\",\"pan card no.:- input(type your pan card no. here)\",\"phone_number:- input(type )\")\n",
        "print(tuple)"
      ]
    },
    {
      "cell_type": "code",
      "execution_count": null,
      "metadata": {
        "colab": {
          "base_uri": "https://localhost:8080/"
        },
        "id": "XQbP3VLk40PW",
        "outputId": "7da45c15-ec8b-4ef0-b865-ce4ef7b384cb"
      },
      "outputs": [
        {
          "name": "stdout",
          "output_type": "stream",
          "text": [
            "enter your number here: 1666\n",
            "enter your number here: 7894022\n",
            "result:-\n",
            "addition: 7895688\n",
            "subtraction: -7892356\n",
            "multiplication: 13151440652\n",
            "division: 0.00021104577615821188\n"
          ]
        }
      ],
      "source": [
        "# 7 Write a program that performs basic arithmetic operations on two user-input numbers.\n",
        "# input the first number\n",
        "number1 = int(input(\"enter your number here: \"))\n",
        "#input second number\n",
        "number2 = int(input(\"enter your number here: \"))\n",
        "# print the result for all arthimetic operation\n",
        "print (\"result:-\")\n",
        "print (\"addition:\", number1+number2)\n",
        "print (\"subtraction:\", number1-number2)\n",
        "print (\"multiplication:\", number1*number2)\n",
        "print (\"division:\", number1/number2)"
      ]
    },
    {
      "cell_type": "code",
      "execution_count": null,
      "metadata": {
        "colab": {
          "base_uri": "https://localhost:8080/"
        },
        "id": "KOk3Fg6AJfVU",
        "outputId": "68eec676-203b-425e-8828-2579629df694"
      },
      "outputs": [
        {
          "name": "stdout",
          "output_type": "stream",
          "text": [
            "True\n",
            "True\n",
            "False False\n"
          ]
        }
      ],
      "source": [
        "# 8 Write a program to demonstrate the use of logical operators.\n",
        "# and operator\n",
        "a = 100\n",
        "print (a>50 and a<=100)\n",
        "# this show true because 100 is greater than 50 and 100 is equal to 100.\n",
        "\n",
        "# or\n",
        "b = 150\n",
        "print (b<60 or b>70)\n",
        "# this shows true result because one of the condition is satisfied here 150 is greater than 60 or 150 is less than 70.\n",
        "\n",
        "# not operator\n",
        "b = 16\n",
        "print (b<10, not b>8)\n",
        "# here both the conditions are false because both are not satisfiying b"
      ]
    },
    {
      "cell_type": "code",
      "source": [
        "# 9 Write a Python program to convert user input from string to integer, float, and boolean types.\n",
        "# interger to float\n",
        "A = \"201\"\n",
        "int(A) # here the value of A is in int type\n",
        "float(A) #here the value of A is converted into float type"
      ],
      "metadata": {
        "id": "qL3on8eo-_-r",
        "colab": {
          "base_uri": "https://localhost:8080/"
        },
        "outputId": "491de90e-120b-456b-ec82-bbda76b76c01"
      },
      "execution_count": 37,
      "outputs": [
        {
          "output_type": "execute_result",
          "data": {
            "text/plain": [
              "201.0"
            ]
          },
          "metadata": {},
          "execution_count": 37
        }
      ]
    },
    {
      "cell_type": "code",
      "source": [
        " # string to boolean\n",
        " B = \"rhea sharma\"\n",
        " str(B) # here the value of B is in string type\n",
        " bool(B) # here the value of B is converted into bollean type"
      ],
      "metadata": {
        "id": "AxAOWV0jA7pm",
        "colab": {
          "base_uri": "https://localhost:8080/"
        },
        "outputId": "88ea0eae-0efc-46f9-ffdb-91f367cf871f"
      },
      "execution_count": 40,
      "outputs": [
        {
          "output_type": "execute_result",
          "data": {
            "text/plain": [
              "True"
            ]
          },
          "metadata": {},
          "execution_count": 40
        }
      ]
    },
    {
      "cell_type": "code",
      "source": [
        "# string to integer # it cannot be executed\n",
        "D = \"1236\"\n",
        "int(D) #here the value of D is in string type\n",
        "str(D)"
      ],
      "metadata": {
        "colab": {
          "base_uri": "https://localhost:8080/",
          "height": 36
        },
        "id": "hqfs0xL5CSGs",
        "outputId": "65f08c62-d0f9-4f6d-b8fa-59a26998127e"
      },
      "execution_count": 53,
      "outputs": [
        {
          "output_type": "execute_result",
          "data": {
            "text/plain": [
              "'1236'"
            ],
            "application/vnd.google.colaboratory.intrinsic+json": {
              "type": "string"
            }
          },
          "metadata": {},
          "execution_count": 53
        }
      ]
    },
    {
      "cell_type": "code",
      "source": [
        " # 10.Write code to demonstrate type casting with list elements\n",
        "list_5 = [1,\"6\",3.0] # list with int, str, float\n",
        "print (list_5)\n",
        "list_5[1] = int (list_5[1]) #casting the string \"6\" into integer\n",
        "print(list_5)\n"
      ],
      "metadata": {
        "colab": {
          "base_uri": "https://localhost:8080/"
        },
        "id": "WgUTr5K_C-WU",
        "outputId": "8fa8608c-f864-4e5e-f07c-3b3331aadd21"
      },
      "execution_count": 57,
      "outputs": [
        {
          "output_type": "stream",
          "name": "stdout",
          "text": [
            "[1, '6', 3.0]\n",
            "[1, 6, 3.0]\n"
          ]
        }
      ]
    },
    {
      "cell_type": "code",
      "source": [
        "# 11 Write a program that checks if a number is positive, negative, or zero.\n",
        "number = 0\n",
        "if number <0: # here if the number is less than zero\n",
        "  print (\"number is negative\")\n",
        "if number == 0: # here if the number is equal to zero\n",
        "  print (\"number is zero\")\n",
        "if number >0: #here if the number is greater than zero\n",
        "  print (\"number is positive\")"
      ],
      "metadata": {
        "colab": {
          "base_uri": "https://localhost:8080/"
        },
        "id": "36SnIzWqJNq7",
        "outputId": "ddbf4518-9361-468d-f6d5-9b82b5a42572"
      },
      "execution_count": 65,
      "outputs": [
        {
          "output_type": "stream",
          "name": "stdout",
          "text": [
            "number is zero\n"
          ]
        }
      ]
    },
    {
      "cell_type": "code",
      "source": [
        "# 12 Write a for loop to print numbers from 1 to 10.\n",
        "range_1 = range(1,11)\n",
        "for a in range_1:\n",
        "  print (a)"
      ],
      "metadata": {
        "colab": {
          "base_uri": "https://localhost:8080/"
        },
        "id": "F_p8b2FUQ2Wh",
        "outputId": "65e5989e-9946-410a-ecd0-b8a0f6d9bd0f"
      },
      "execution_count": 66,
      "outputs": [
        {
          "output_type": "stream",
          "name": "stdout",
          "text": [
            "1\n",
            "2\n",
            "3\n",
            "4\n",
            "5\n",
            "6\n",
            "7\n",
            "8\n",
            "9\n",
            "10\n"
          ]
        }
      ]
    },
    {
      "cell_type": "code",
      "source": [
        "# 13  Write a Python program to find the sum of all even numbers between 1 and 50.\n",
        "sum_even_number = 0\n",
        "for number in range(1,51):\n",
        "  if number %2 == 0:\n",
        "    sum_even_number += number\n",
        "print(sum_even_number)\n",
        "number += 1"
      ],
      "metadata": {
        "colab": {
          "base_uri": "https://localhost:8080/"
        },
        "id": "RzvP1V24WaWQ",
        "outputId": "a6d2ebdd-8ca7-4e0f-bfd1-c80e1e1bbfc5"
      },
      "execution_count": 90,
      "outputs": [
        {
          "output_type": "stream",
          "name": "stdout",
          "text": [
            "650\n"
          ]
        }
      ]
    },
    {
      "cell_type": "code",
      "source": [
        "# 14  Write a program to reverse a string using a while loop.\n",
        "name = \"Rhea\"\n",
        "for name in reversed(\"Rhea\"): # here string \"rhea\" is reversed sequence.\n",
        "  print (name)"
      ],
      "metadata": {
        "colab": {
          "base_uri": "https://localhost:8080/"
        },
        "id": "UMD8GIlgXz28",
        "outputId": "0f2a2a63-a180-4270-c6f0-54ed9bb5e0de"
      },
      "execution_count": 92,
      "outputs": [
        {
          "output_type": "stream",
          "name": "stdout",
          "text": [
            "a\n",
            "e\n",
            "h\n",
            "R\n"
          ]
        }
      ]
    },
    {
      "cell_type": "code",
      "source": [
        "# 15  Write a Python program to calculate the factorial of a number provided by the user using a while loop\n",
        "n = int(input(\"enter you number here\"))\n",
        "fact =1 # here factorial starts from 1\n",
        "while n>0: # here using while loop where n greater than 0\n",
        "  fact = fact*n\n",
        "  n = (n-1)\n",
        "  print (fact)"
      ],
      "metadata": {
        "colab": {
          "base_uri": "https://localhost:8080/"
        },
        "id": "wyplNjwXa75e",
        "outputId": "4f0b625a-0503-442b-ae54-e8d5f51cf75e"
      },
      "execution_count": 101,
      "outputs": [
        {
          "output_type": "stream",
          "name": "stdout",
          "text": [
            "enter you number here7\n",
            "7\n",
            "42\n",
            "210\n",
            "840\n",
            "2520\n",
            "5040\n",
            "5040\n"
          ]
        }
      ]
    },
    {
      "cell_type": "code",
      "source": [],
      "metadata": {
        "id": "p4NA9zdQb-Yb"
      },
      "execution_count": null,
      "outputs": []
    }
  ],
  "metadata": {
    "colab": {
      "provenance": []
    },
    "kernelspec": {
      "display_name": "Python 3",
      "name": "python3"
    },
    "language_info": {
      "name": "python"
    }
  },
  "nbformat": 4,
  "nbformat_minor": 0
}